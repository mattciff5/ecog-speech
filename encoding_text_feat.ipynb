{
 "cells": [
  {
   "cell_type": "code",
   "execution_count": 1,
   "id": "f788429d",
   "metadata": {},
   "outputs": [
    {
     "name": "stderr",
     "output_type": "stream",
     "text": [
      "/home/matteoc/miniconda3/envs/huggin/lib/python3.11/site-packages/tqdm/auto.py:21: TqdmWarning: IProgress not found. Please update jupyter and ipywidgets. See https://ipywidgets.readthedocs.io/en/stable/user_install.html\n",
      "  from .autonotebook import tqdm as notebook_tqdm\n"
     ]
    }
   ],
   "source": [
    "import pandas as pd\n",
    "import numpy as np\n",
    "import spacy\n",
    "from sklearn.preprocessing import LabelBinarizer\n",
    "import torch\n",
    "# from transformers import WhisperProcessor, WhisperModel, AutoFeatureExtractor, AutoProcessor, WhisperForConditionalGeneration, WhisperTokenizer\n",
    "from transformers import AutoModelForCausalLM, AutoTokenizer\n",
    "from mne_bids import BIDSPath\n",
    "import mne\n",
    "from scipy.stats import pearsonr, zscore\n",
    "from functools import partial"
   ]
  },
  {
   "cell_type": "code",
   "execution_count": 2,
   "id": "db999550",
   "metadata": {},
   "outputs": [],
   "source": [
    "device = torch.device(\"cuda:6\" if torch.cuda.is_available() else \"cpu\")\n",
    "base_path = \"/srv/nfs-data/sisko\"\n",
    "bids_root = base_path + \"/storage/ECoG_podcast/ds005574-1.0.2\" \n",
    "context_len = 32\n",
    "subject = '03' # --> 02 e 08 con cura \n",
    "ecog_sr = 512\n",
    "ecog_sr_down = 32\n",
    "whisper_sr = 16000\n",
    "tmax = 2.0\n",
    "pre_stimulus = 2.0\n",
    "pre_audio = 0.2\n",
    "func = partial(zscore) \n"
   ]
  },
  {
   "cell_type": "code",
   "execution_count": 3,
   "id": "9b0f8f7c",
   "metadata": {},
   "outputs": [
    {
     "data": {
      "text/plain": [
       "GPT2LMHeadModel(\n",
       "  (transformer): GPT2Model(\n",
       "    (wte): Embedding(50257, 768)\n",
       "    (wpe): Embedding(1024, 768)\n",
       "    (drop): Dropout(p=0.1, inplace=False)\n",
       "    (h): ModuleList(\n",
       "      (0-11): 12 x GPT2Block(\n",
       "        (ln_1): LayerNorm((768,), eps=1e-05, elementwise_affine=True)\n",
       "        (attn): GPT2SdpaAttention(\n",
       "          (c_attn): Conv1D(nf=2304, nx=768)\n",
       "          (c_proj): Conv1D(nf=768, nx=768)\n",
       "          (attn_dropout): Dropout(p=0.1, inplace=False)\n",
       "          (resid_dropout): Dropout(p=0.1, inplace=False)\n",
       "        )\n",
       "        (ln_2): LayerNorm((768,), eps=1e-05, elementwise_affine=True)\n",
       "        (mlp): GPT2MLP(\n",
       "          (c_fc): Conv1D(nf=3072, nx=768)\n",
       "          (c_proj): Conv1D(nf=768, nx=3072)\n",
       "          (act): NewGELUActivation()\n",
       "          (dropout): Dropout(p=0.1, inplace=False)\n",
       "        )\n",
       "      )\n",
       "    )\n",
       "    (ln_f): LayerNorm((768,), eps=1e-05, elementwise_affine=True)\n",
       "  )\n",
       "  (lm_head): Linear(in_features=768, out_features=50257, bias=False)\n",
       ")"
      ]
     },
     "execution_count": 3,
     "metadata": {},
     "output_type": "execute_result"
    }
   ],
   "source": [
    "# model_w = WhisperModel.from_pretrained(\"openai/whisper-base\")\n",
    "# feature_extractor = AutoFeatureExtractor.from_pretrained(\"openai/whisper-base\")\n",
    "# tokenizer_w = WhisperTokenizer.from_pretrained(\"openai/whisper-base\")\n",
    "# processor_w = AutoProcessor.from_pretrained(\"openai/whisper-base\")\n",
    "# model_w.eval()\n",
    "\n",
    "from transformers import GPT2TokenizerFast, GPT2Model, AutoTokenizer, AutoModelForCausalLM\n",
    "\n",
    "model_name = \"gpt2\"\n",
    "tokenizer_gpt = AutoTokenizer.from_pretrained(model_name)\n",
    "tokenizer_gpt.pad_token = tokenizer_gpt.eos_token\n",
    "model_gpt = AutoModelForCausalLM.from_pretrained(model_name)\n",
    "model_gpt.eval()\n",
    "model_gpt.to(device)"
   ]
  },
  {
   "cell_type": "markdown",
   "id": "a33b8f6a",
   "metadata": {},
   "source": [
    "## From Paper"
   ]
  },
  {
   "cell_type": "code",
   "execution_count": 4,
   "id": "74c69ded",
   "metadata": {},
   "outputs": [
    {
     "data": {
      "text/html": [
       "<div>\n",
       "<style scoped>\n",
       "    .dataframe tbody tr th:only-of-type {\n",
       "        vertical-align: middle;\n",
       "    }\n",
       "\n",
       "    .dataframe tbody tr th {\n",
       "        vertical-align: top;\n",
       "    }\n",
       "\n",
       "    .dataframe thead th {\n",
       "        text-align: right;\n",
       "    }\n",
       "</style>\n",
       "<table border=\"1\" class=\"dataframe\">\n",
       "  <thead>\n",
       "    <tr style=\"text-align: right;\">\n",
       "      <th></th>\n",
       "      <th>word</th>\n",
       "      <th>start</th>\n",
       "      <th>end</th>\n",
       "    </tr>\n",
       "  </thead>\n",
       "  <tbody>\n",
       "    <tr>\n",
       "      <th>0</th>\n",
       "      <td>Act</td>\n",
       "      <td>3.710</td>\n",
       "      <td>3.790</td>\n",
       "    </tr>\n",
       "    <tr>\n",
       "      <th>1</th>\n",
       "      <td>one,</td>\n",
       "      <td>3.990</td>\n",
       "      <td>4.190</td>\n",
       "    </tr>\n",
       "    <tr>\n",
       "      <th>2</th>\n",
       "      <td>monkey</td>\n",
       "      <td>4.651</td>\n",
       "      <td>4.931</td>\n",
       "    </tr>\n",
       "    <tr>\n",
       "      <th>3</th>\n",
       "      <td>in</td>\n",
       "      <td>4.951</td>\n",
       "      <td>5.011</td>\n",
       "    </tr>\n",
       "    <tr>\n",
       "      <th>4</th>\n",
       "      <td>the</td>\n",
       "      <td>5.051</td>\n",
       "      <td>5.111</td>\n",
       "    </tr>\n",
       "    <tr>\n",
       "      <th>5</th>\n",
       "      <td>middle.</td>\n",
       "      <td>5.151</td>\n",
       "      <td>5.391</td>\n",
       "    </tr>\n",
       "    <tr>\n",
       "      <th>6</th>\n",
       "      <td>So</td>\n",
       "      <td>6.592</td>\n",
       "      <td>6.732</td>\n",
       "    </tr>\n",
       "    <tr>\n",
       "      <th>7</th>\n",
       "      <td>there's</td>\n",
       "      <td>6.752</td>\n",
       "      <td>6.912</td>\n",
       "    </tr>\n",
       "    <tr>\n",
       "      <th>8</th>\n",
       "      <td>some</td>\n",
       "      <td>6.892</td>\n",
       "      <td>7.052</td>\n",
       "    </tr>\n",
       "    <tr>\n",
       "      <th>9</th>\n",
       "      <td>places</td>\n",
       "      <td>7.072</td>\n",
       "      <td>7.342</td>\n",
       "    </tr>\n",
       "  </tbody>\n",
       "</table>\n",
       "</div>"
      ],
      "text/plain": [
       "      word  start    end\n",
       "0      Act  3.710  3.790\n",
       "1     one,  3.990  4.190\n",
       "2   monkey  4.651  4.931\n",
       "3       in  4.951  5.011\n",
       "4      the  5.051  5.111\n",
       "5  middle.  5.151  5.391\n",
       "6       So  6.592  6.732\n",
       "7  there's  6.752  6.912\n",
       "8     some  6.892  7.052\n",
       "9   places  7.072  7.342"
      ]
     },
     "execution_count": 4,
     "metadata": {},
     "output_type": "execute_result"
    }
   ],
   "source": [
    "transcript_path = f\"{bids_root}/stimuli/podcast_transcript.csv\"\n",
    "df = pd.read_csv(transcript_path)\n",
    "df.head(10)"
   ]
  },
  {
   "cell_type": "code",
   "execution_count": 5,
   "id": "4ff09a46",
   "metadata": {},
   "outputs": [],
   "source": [
    "modelname = \"en_core_web_sm\"\n",
    "nlp = spacy.load(modelname)"
   ]
  },
  {
   "cell_type": "code",
   "execution_count": 6,
   "id": "8395903f",
   "metadata": {},
   "outputs": [
    {
     "data": {
      "text/html": [
       "<div>\n",
       "<style scoped>\n",
       "    .dataframe tbody tr th:only-of-type {\n",
       "        vertical-align: middle;\n",
       "    }\n",
       "\n",
       "    .dataframe tbody tr th {\n",
       "        vertical-align: top;\n",
       "    }\n",
       "\n",
       "    .dataframe thead th {\n",
       "        text-align: right;\n",
       "    }\n",
       "</style>\n",
       "<table border=\"1\" class=\"dataframe\">\n",
       "  <thead>\n",
       "    <tr style=\"text-align: right;\">\n",
       "      <th></th>\n",
       "      <th>word_idx</th>\n",
       "      <th>word</th>\n",
       "      <th>start</th>\n",
       "      <th>end</th>\n",
       "      <th>word_with_ws</th>\n",
       "      <th>hftoken</th>\n",
       "    </tr>\n",
       "  </thead>\n",
       "  <tbody>\n",
       "    <tr>\n",
       "      <th>0</th>\n",
       "      <td>0</td>\n",
       "      <td>Act</td>\n",
       "      <td>3.710</td>\n",
       "      <td>3.790</td>\n",
       "      <td>Act</td>\n",
       "      <td>Act</td>\n",
       "    </tr>\n",
       "    <tr>\n",
       "      <th>1</th>\n",
       "      <td>1</td>\n",
       "      <td>one,</td>\n",
       "      <td>3.990</td>\n",
       "      <td>4.190</td>\n",
       "      <td>one,</td>\n",
       "      <td>one</td>\n",
       "    </tr>\n",
       "    <tr>\n",
       "      <th>2</th>\n",
       "      <td>1</td>\n",
       "      <td>one,</td>\n",
       "      <td>3.990</td>\n",
       "      <td>4.190</td>\n",
       "      <td>one,</td>\n",
       "      <td>,</td>\n",
       "    </tr>\n",
       "    <tr>\n",
       "      <th>3</th>\n",
       "      <td>2</td>\n",
       "      <td>monkey</td>\n",
       "      <td>4.651</td>\n",
       "      <td>4.931</td>\n",
       "      <td>monkey</td>\n",
       "      <td>monkey</td>\n",
       "    </tr>\n",
       "    <tr>\n",
       "      <th>4</th>\n",
       "      <td>3</td>\n",
       "      <td>in</td>\n",
       "      <td>4.951</td>\n",
       "      <td>5.011</td>\n",
       "      <td>in</td>\n",
       "      <td>in</td>\n",
       "    </tr>\n",
       "    <tr>\n",
       "      <th>5</th>\n",
       "      <td>4</td>\n",
       "      <td>the</td>\n",
       "      <td>5.051</td>\n",
       "      <td>5.111</td>\n",
       "      <td>the</td>\n",
       "      <td>the</td>\n",
       "    </tr>\n",
       "    <tr>\n",
       "      <th>6</th>\n",
       "      <td>5</td>\n",
       "      <td>middle.</td>\n",
       "      <td>5.151</td>\n",
       "      <td>5.391</td>\n",
       "      <td>middle.</td>\n",
       "      <td>middle</td>\n",
       "    </tr>\n",
       "    <tr>\n",
       "      <th>7</th>\n",
       "      <td>5</td>\n",
       "      <td>middle.</td>\n",
       "      <td>5.151</td>\n",
       "      <td>5.391</td>\n",
       "      <td>middle.</td>\n",
       "      <td>.</td>\n",
       "    </tr>\n",
       "    <tr>\n",
       "      <th>8</th>\n",
       "      <td>6</td>\n",
       "      <td>So</td>\n",
       "      <td>6.592</td>\n",
       "      <td>6.732</td>\n",
       "      <td>So</td>\n",
       "      <td>So</td>\n",
       "    </tr>\n",
       "    <tr>\n",
       "      <th>9</th>\n",
       "      <td>7</td>\n",
       "      <td>there's</td>\n",
       "      <td>6.752</td>\n",
       "      <td>6.912</td>\n",
       "      <td>there's</td>\n",
       "      <td>there</td>\n",
       "    </tr>\n",
       "  </tbody>\n",
       "</table>\n",
       "</div>"
      ],
      "text/plain": [
       "   word_idx     word  start    end word_with_ws hftoken\n",
       "0         0      Act  3.710  3.790         Act      Act\n",
       "1         1     one,  3.990  4.190        one,      one\n",
       "2         1     one,  3.990  4.190        one,        ,\n",
       "3         2   monkey  4.651  4.931      monkey   monkey\n",
       "4         3       in  4.951  5.011          in       in\n",
       "5         4      the  5.051  5.111         the      the\n",
       "6         5  middle.  5.151  5.391     middle.   middle\n",
       "7         5  middle.  5.151  5.391     middle.        .\n",
       "8         6       So  6.592  6.732          So       So\n",
       "9         7  there's  6.752  6.912     there's    there"
      ]
     },
     "execution_count": 6,
     "metadata": {},
     "output_type": "execute_result"
    }
   ],
   "source": [
    "df.insert(0, \"word_idx\", df.index.values)\n",
    "df[\"word_with_ws\"] = df.word.astype(str) + \" \"\n",
    "df[\"hftoken\"] = df.word_with_ws.apply(nlp.tokenizer)\n",
    "df = df.explode(\"hftoken\", ignore_index=True)\n",
    "df.head(10)"
   ]
  },
  {
   "cell_type": "code",
   "execution_count": 7,
   "id": "d379488b",
   "metadata": {},
   "outputs": [],
   "source": [
    "words = [token.text for token in df.hftoken.tolist()]\n",
    "spaces = [token.whitespace_ == \" \" for token in df.hftoken.tolist()]\n",
    "doc = spacy.tokens.Doc(nlp.vocab, words=words, spaces=spaces)\n",
    "doc = nlp(doc)"
   ]
  },
  {
   "cell_type": "code",
   "execution_count": 8,
   "id": "dd79a437",
   "metadata": {},
   "outputs": [
    {
     "data": {
      "text/html": [
       "<div>\n",
       "<style scoped>\n",
       "    .dataframe tbody tr th:only-of-type {\n",
       "        vertical-align: middle;\n",
       "    }\n",
       "\n",
       "    .dataframe tbody tr th {\n",
       "        vertical-align: top;\n",
       "    }\n",
       "\n",
       "    .dataframe thead th {\n",
       "        text-align: right;\n",
       "    }\n",
       "</style>\n",
       "<table border=\"1\" class=\"dataframe\">\n",
       "  <thead>\n",
       "    <tr style=\"text-align: right;\">\n",
       "      <th></th>\n",
       "      <th>word_idx</th>\n",
       "      <th>word</th>\n",
       "      <th>start</th>\n",
       "      <th>end</th>\n",
       "      <th>token</th>\n",
       "      <th>pos</th>\n",
       "      <th>dep</th>\n",
       "      <th>stop</th>\n",
       "    </tr>\n",
       "  </thead>\n",
       "  <tbody>\n",
       "    <tr>\n",
       "      <th>0</th>\n",
       "      <td>0</td>\n",
       "      <td>Act</td>\n",
       "      <td>3.710</td>\n",
       "      <td>3.790</td>\n",
       "      <td>Act</td>\n",
       "      <td>NNP</td>\n",
       "      <td>ROOT</td>\n",
       "      <td>False</td>\n",
       "    </tr>\n",
       "    <tr>\n",
       "      <th>1</th>\n",
       "      <td>1</td>\n",
       "      <td>one,</td>\n",
       "      <td>3.990</td>\n",
       "      <td>4.190</td>\n",
       "      <td>one</td>\n",
       "      <td>CD</td>\n",
       "      <td>nummod</td>\n",
       "      <td>True</td>\n",
       "    </tr>\n",
       "    <tr>\n",
       "      <th>2</th>\n",
       "      <td>1</td>\n",
       "      <td>one,</td>\n",
       "      <td>3.990</td>\n",
       "      <td>4.190</td>\n",
       "      <td>,</td>\n",
       "      <td>,</td>\n",
       "      <td>punct</td>\n",
       "      <td>False</td>\n",
       "    </tr>\n",
       "    <tr>\n",
       "      <th>3</th>\n",
       "      <td>2</td>\n",
       "      <td>monkey</td>\n",
       "      <td>4.651</td>\n",
       "      <td>4.931</td>\n",
       "      <td>monkey</td>\n",
       "      <td>NN</td>\n",
       "      <td>appos</td>\n",
       "      <td>False</td>\n",
       "    </tr>\n",
       "    <tr>\n",
       "      <th>4</th>\n",
       "      <td>3</td>\n",
       "      <td>in</td>\n",
       "      <td>4.951</td>\n",
       "      <td>5.011</td>\n",
       "      <td>in</td>\n",
       "      <td>IN</td>\n",
       "      <td>prep</td>\n",
       "      <td>True</td>\n",
       "    </tr>\n",
       "    <tr>\n",
       "      <th>5</th>\n",
       "      <td>4</td>\n",
       "      <td>the</td>\n",
       "      <td>5.051</td>\n",
       "      <td>5.111</td>\n",
       "      <td>the</td>\n",
       "      <td>DT</td>\n",
       "      <td>det</td>\n",
       "      <td>True</td>\n",
       "    </tr>\n",
       "    <tr>\n",
       "      <th>6</th>\n",
       "      <td>5</td>\n",
       "      <td>middle.</td>\n",
       "      <td>5.151</td>\n",
       "      <td>5.391</td>\n",
       "      <td>middle</td>\n",
       "      <td>NN</td>\n",
       "      <td>pobj</td>\n",
       "      <td>False</td>\n",
       "    </tr>\n",
       "    <tr>\n",
       "      <th>7</th>\n",
       "      <td>5</td>\n",
       "      <td>middle.</td>\n",
       "      <td>5.151</td>\n",
       "      <td>5.391</td>\n",
       "      <td>.</td>\n",
       "      <td>.</td>\n",
       "      <td>punct</td>\n",
       "      <td>False</td>\n",
       "    </tr>\n",
       "    <tr>\n",
       "      <th>8</th>\n",
       "      <td>6</td>\n",
       "      <td>So</td>\n",
       "      <td>6.592</td>\n",
       "      <td>6.732</td>\n",
       "      <td>So</td>\n",
       "      <td>RB</td>\n",
       "      <td>advmod</td>\n",
       "      <td>True</td>\n",
       "    </tr>\n",
       "    <tr>\n",
       "      <th>9</th>\n",
       "      <td>7</td>\n",
       "      <td>there's</td>\n",
       "      <td>6.752</td>\n",
       "      <td>6.912</td>\n",
       "      <td>there</td>\n",
       "      <td>EX</td>\n",
       "      <td>expl</td>\n",
       "      <td>True</td>\n",
       "    </tr>\n",
       "  </tbody>\n",
       "</table>\n",
       "</div>"
      ],
      "text/plain": [
       "   word_idx     word  start    end   token  pos     dep   stop\n",
       "0         0      Act  3.710  3.790     Act  NNP    ROOT  False\n",
       "1         1     one,  3.990  4.190     one   CD  nummod   True\n",
       "2         1     one,  3.990  4.190       ,    ,   punct  False\n",
       "3         2   monkey  4.651  4.931  monkey   NN   appos  False\n",
       "4         3       in  4.951  5.011      in   IN    prep   True\n",
       "5         4      the  5.051  5.111     the   DT     det   True\n",
       "6         5  middle.  5.151  5.391  middle   NN    pobj  False\n",
       "7         5  middle.  5.151  5.391       .    .   punct  False\n",
       "8         6       So  6.592  6.732      So   RB  advmod   True\n",
       "9         7  there's  6.752  6.912   there   EX    expl   True"
      ]
     },
     "execution_count": 8,
     "metadata": {},
     "output_type": "execute_result"
    }
   ],
   "source": [
    "features = []\n",
    "for token in doc:\n",
    "    features.append([token.text, token.tag_, token.dep_, token.is_stop])\n",
    "\n",
    "df2 = pd.DataFrame(\n",
    "        features, columns=[\"token\", \"pos\", \"dep\", \"stop\"], index=df.index\n",
    "    )\n",
    "df = pd.concat([df, df2], axis=1)\n",
    "df.drop([\"hftoken\", \"word_with_ws\"], axis=1, inplace=True)\n",
    "df.head(10)"
   ]
  },
  {
   "cell_type": "code",
   "execution_count": 9,
   "id": "ea24b24e",
   "metadata": {},
   "outputs": [
    {
     "name": "stdout",
     "output_type": "stream",
     "text": [
      "Embeddings have a shape of: (5305, 96)\n"
     ]
    }
   ],
   "source": [
    "taggerEncoder = LabelBinarizer().fit(nlp.get_pipe(\"tagger\").labels)\n",
    "dependencyEncoder = LabelBinarizer().fit(nlp.get_pipe(\"parser\").labels)\n",
    "\n",
    "a = taggerEncoder.transform(df.pos.tolist())\n",
    "b = dependencyEncoder.transform(df.dep.tolist())\n",
    "c = LabelBinarizer().fit_transform(df.stop.tolist())\n",
    "embeddings = np.hstack((a, b, c))\n",
    "print(f\"Embeddings have a shape of: {embeddings.shape}\")"
   ]
  },
  {
   "cell_type": "markdown",
   "id": "48c65018",
   "metadata": {},
   "source": [
    "### From GPT2"
   ]
  },
  {
   "cell_type": "code",
   "execution_count": 10,
   "id": "0e2c97a7",
   "metadata": {},
   "outputs": [],
   "source": [
    "import torch\n",
    "from accelerate import Accelerator, find_executable_batch_size\n",
    "from transformers import AutoModelForCausalLM, AutoTokenizer"
   ]
  },
  {
   "cell_type": "code",
   "execution_count": 11,
   "id": "3a85c5f5",
   "metadata": {},
   "outputs": [
    {
     "name": "stdout",
     "output_type": "stream",
     "text": [
      "Using cuda!\n"
     ]
    },
    {
     "data": {
      "text/html": [
       "<div>\n",
       "<style scoped>\n",
       "    .dataframe tbody tr th:only-of-type {\n",
       "        vertical-align: middle;\n",
       "    }\n",
       "\n",
       "    .dataframe tbody tr th {\n",
       "        vertical-align: top;\n",
       "    }\n",
       "\n",
       "    .dataframe thead th {\n",
       "        text-align: right;\n",
       "    }\n",
       "</style>\n",
       "<table border=\"1\" class=\"dataframe\">\n",
       "  <thead>\n",
       "    <tr style=\"text-align: right;\">\n",
       "      <th></th>\n",
       "      <th>word_idx</th>\n",
       "      <th>word</th>\n",
       "      <th>start</th>\n",
       "      <th>end</th>\n",
       "      <th>hftoken</th>\n",
       "      <th>token_id</th>\n",
       "    </tr>\n",
       "  </thead>\n",
       "  <tbody>\n",
       "    <tr>\n",
       "      <th>0</th>\n",
       "      <td>0</td>\n",
       "      <td>Act</td>\n",
       "      <td>3.710</td>\n",
       "      <td>3.790</td>\n",
       "      <td>ĠAct</td>\n",
       "      <td>2191</td>\n",
       "    </tr>\n",
       "    <tr>\n",
       "      <th>1</th>\n",
       "      <td>1</td>\n",
       "      <td>one,</td>\n",
       "      <td>3.990</td>\n",
       "      <td>4.190</td>\n",
       "      <td>Ġone</td>\n",
       "      <td>530</td>\n",
       "    </tr>\n",
       "    <tr>\n",
       "      <th>2</th>\n",
       "      <td>1</td>\n",
       "      <td>one,</td>\n",
       "      <td>3.990</td>\n",
       "      <td>4.190</td>\n",
       "      <td>,</td>\n",
       "      <td>11</td>\n",
       "    </tr>\n",
       "    <tr>\n",
       "      <th>3</th>\n",
       "      <td>2</td>\n",
       "      <td>monkey</td>\n",
       "      <td>4.651</td>\n",
       "      <td>4.931</td>\n",
       "      <td>Ġmonkey</td>\n",
       "      <td>21657</td>\n",
       "    </tr>\n",
       "    <tr>\n",
       "      <th>4</th>\n",
       "      <td>3</td>\n",
       "      <td>in</td>\n",
       "      <td>4.951</td>\n",
       "      <td>5.011</td>\n",
       "      <td>Ġin</td>\n",
       "      <td>287</td>\n",
       "    </tr>\n",
       "    <tr>\n",
       "      <th>5</th>\n",
       "      <td>4</td>\n",
       "      <td>the</td>\n",
       "      <td>5.051</td>\n",
       "      <td>5.111</td>\n",
       "      <td>Ġthe</td>\n",
       "      <td>262</td>\n",
       "    </tr>\n",
       "    <tr>\n",
       "      <th>6</th>\n",
       "      <td>5</td>\n",
       "      <td>middle.</td>\n",
       "      <td>5.151</td>\n",
       "      <td>5.391</td>\n",
       "      <td>Ġmiddle</td>\n",
       "      <td>3504</td>\n",
       "    </tr>\n",
       "    <tr>\n",
       "      <th>7</th>\n",
       "      <td>5</td>\n",
       "      <td>middle.</td>\n",
       "      <td>5.151</td>\n",
       "      <td>5.391</td>\n",
       "      <td>.</td>\n",
       "      <td>13</td>\n",
       "    </tr>\n",
       "    <tr>\n",
       "      <th>8</th>\n",
       "      <td>6</td>\n",
       "      <td>So</td>\n",
       "      <td>6.592</td>\n",
       "      <td>6.732</td>\n",
       "      <td>ĠSo</td>\n",
       "      <td>1406</td>\n",
       "    </tr>\n",
       "    <tr>\n",
       "      <th>9</th>\n",
       "      <td>7</td>\n",
       "      <td>there's</td>\n",
       "      <td>6.752</td>\n",
       "      <td>6.912</td>\n",
       "      <td>Ġthere</td>\n",
       "      <td>612</td>\n",
       "    </tr>\n",
       "  </tbody>\n",
       "</table>\n",
       "</div>"
      ],
      "text/plain": [
       "   word_idx     word  start    end  hftoken  token_id\n",
       "0         0      Act  3.710  3.790     ĠAct      2191\n",
       "1         1     one,  3.990  4.190     Ġone       530\n",
       "2         1     one,  3.990  4.190        ,        11\n",
       "3         2   monkey  4.651  4.931  Ġmonkey     21657\n",
       "4         3       in  4.951  5.011      Ġin       287\n",
       "5         4      the  5.051  5.111     Ġthe       262\n",
       "6         5  middle.  5.151  5.391  Ġmiddle      3504\n",
       "7         5  middle.  5.151  5.391        .        13\n",
       "8         6       So  6.592  6.732      ĠSo      1406\n",
       "9         7  there's  6.752  6.912   Ġthere       612"
      ]
     },
     "execution_count": 11,
     "metadata": {},
     "output_type": "execute_result"
    }
   ],
   "source": [
    "df = pd.read_csv(transcript_path)\n",
    "\n",
    "modelname = \"gpt2-xl\"\n",
    "context_len = 32\n",
    "device = torch.device(\"cpu\")\n",
    "if torch.cuda.is_available():\n",
    "    device = torch.device(\"cuda\", 0)\n",
    "    print(\"Using cuda!\")\n",
    "\n",
    "# Load model\n",
    "tokenizer = AutoTokenizer.from_pretrained(modelname)\n",
    "\n",
    "df.insert(0, \"word_idx\", df.index.values)\n",
    "df[\"hftoken\"] = df.word.apply(lambda x: tokenizer.tokenize(\" \" + x))\n",
    "\n",
    "df = df.explode(\"hftoken\", ignore_index=True)\n",
    "df[\"token_id\"] = df.hftoken.apply(tokenizer.convert_tokens_to_ids)\n",
    "\n",
    "df.head(10)\n",
    "\n"
   ]
  },
  {
   "cell_type": "code",
   "execution_count": 12,
   "id": "60604282",
   "metadata": {},
   "outputs": [],
   "source": [
    "model = AutoModelForCausalLM.from_pretrained(modelname)\n",
    "model = model.eval()\n",
    "model = model.to(device)"
   ]
  },
  {
   "cell_type": "code",
   "execution_count": 13,
   "id": "acda5056",
   "metadata": {},
   "outputs": [
    {
     "name": "stdout",
     "output_type": "stream",
     "text": [
      "Data has a shape of: torch.Size([5491, 33])\n"
     ]
    }
   ],
   "source": [
    "token_ids = df.token_id.tolist()\n",
    "fill_value = 0\n",
    "if tokenizer.pad_token_id is not None:\n",
    "    fill_value = tokenizer.pad_token_id\n",
    "\n",
    "data = torch.full((len(token_ids), context_len + 1), fill_value, dtype=torch.long)\n",
    "for i in range(len(token_ids)):\n",
    "    example_tokens = token_ids[max(0, i - context_len) : i + 1]\n",
    "    data[i, -len(example_tokens) :] = torch.tensor(example_tokens)\n",
    "\n",
    "print(f\"Data has a shape of: {data.shape}\")"
   ]
  },
  {
   "cell_type": "code",
   "execution_count": 14,
   "id": "60da88ed",
   "metadata": {},
   "outputs": [
    {
     "name": "stderr",
     "output_type": "stream",
     "text": [
      "100%|██████████| 172/172 [00:21<00:00,  7.99it/s]\n"
     ]
    }
   ],
   "source": [
    "import tqdm\n",
    "\n",
    "accelerator = Accelerator()\n",
    "\n",
    "@find_executable_batch_size(starting_batch_size=32)\n",
    "def inference_loop(batch_size=32):\n",
    "    # nonlocal accelerator  # Ensure they can be used in our context\n",
    "    accelerator.free_memory()  # Free all lingering references\n",
    "\n",
    "    data_dl = torch.utils.data.DataLoader(\n",
    "        data, batch_size=batch_size, shuffle=False\n",
    "        )\n",
    "\n",
    "    top_guesses = []\n",
    "    ranks = []\n",
    "    true_probs = []\n",
    "    entropies = []\n",
    "    embeddings = []\n",
    "\n",
    "    with torch.no_grad():\n",
    "        for batch in tqdm.tqdm(data_dl):\n",
    "            # Get output from model\n",
    "            output = model(batch.to(device), output_hidden_states=True)\n",
    "            logits = output.logits\n",
    "            states = output.hidden_states\n",
    "\n",
    "            true_ids = batch[:, -1]\n",
    "            brange = list(range(len(true_ids)))\n",
    "            logits_order = logits[:, -2, :].argsort(descending=True)\n",
    "            batch_top_guesses = logits_order[:, 0]\n",
    "            batch_ranks = torch.eq(logits_order, true_ids.reshape(-1, 1).to(device)).nonzero()[:, 1]\n",
    "            batch_probs = torch.softmax(logits[:, -2, :], dim=-1)\n",
    "            batch_true_probs = batch_probs[brange, true_ids]\n",
    "            batch_entropy = torch.distributions.Categorical(probs=batch_probs).entropy()\n",
    "            batch_embeddings = [state[:,-1,:].numpy(force=True) for state in states ]\n",
    "\n",
    "            top_guesses.append(batch_top_guesses.numpy(force=True))\n",
    "            ranks.append(batch_ranks.numpy(force=True))\n",
    "            true_probs.append(batch_true_probs.numpy(force=True))\n",
    "            entropies.append(batch_entropy.numpy(force=True))\n",
    "            embeddings.append(batch_embeddings)\n",
    "\n",
    "        return top_guesses, ranks, true_probs, entropies, embeddings\n",
    "\n",
    "top_guesses, ranks, true_probs, entropies, embeddings = inference_loop()"
   ]
  },
  {
   "cell_type": "code",
   "execution_count": 15,
   "id": "ee4e8af9",
   "metadata": {},
   "outputs": [
    {
     "data": {
      "text/html": [
       "<div>\n",
       "<style scoped>\n",
       "    .dataframe tbody tr th:only-of-type {\n",
       "        vertical-align: middle;\n",
       "    }\n",
       "\n",
       "    .dataframe tbody tr th {\n",
       "        vertical-align: top;\n",
       "    }\n",
       "\n",
       "    .dataframe thead th {\n",
       "        text-align: right;\n",
       "    }\n",
       "</style>\n",
       "<table border=\"1\" class=\"dataframe\">\n",
       "  <thead>\n",
       "    <tr style=\"text-align: right;\">\n",
       "      <th></th>\n",
       "      <th>word_idx</th>\n",
       "      <th>word</th>\n",
       "      <th>start</th>\n",
       "      <th>end</th>\n",
       "      <th>hftoken</th>\n",
       "      <th>token_id</th>\n",
       "      <th>rank</th>\n",
       "      <th>true_prob</th>\n",
       "      <th>top_pred</th>\n",
       "      <th>entropy</th>\n",
       "    </tr>\n",
       "  </thead>\n",
       "  <tbody>\n",
       "    <tr>\n",
       "      <th>0</th>\n",
       "      <td>0</td>\n",
       "      <td>Act</td>\n",
       "      <td>3.710</td>\n",
       "      <td>3.790</td>\n",
       "      <td>ĠAct</td>\n",
       "      <td>2191</td>\n",
       "      <td>1644</td>\n",
       "      <td>0.000012</td>\n",
       "      <td>0</td>\n",
       "      <td>2.402722</td>\n",
       "    </tr>\n",
       "    <tr>\n",
       "      <th>1</th>\n",
       "      <td>1</td>\n",
       "      <td>one,</td>\n",
       "      <td>3.990</td>\n",
       "      <td>4.190</td>\n",
       "      <td>Ġone</td>\n",
       "      <td>530</td>\n",
       "      <td>92</td>\n",
       "      <td>0.000342</td>\n",
       "      <td>352</td>\n",
       "      <td>3.732055</td>\n",
       "    </tr>\n",
       "    <tr>\n",
       "      <th>2</th>\n",
       "      <td>1</td>\n",
       "      <td>one,</td>\n",
       "      <td>3.990</td>\n",
       "      <td>4.190</td>\n",
       "      <td>,</td>\n",
       "      <td>11</td>\n",
       "      <td>3</td>\n",
       "      <td>0.059520</td>\n",
       "      <td>25</td>\n",
       "      <td>4.259335</td>\n",
       "    </tr>\n",
       "    <tr>\n",
       "      <th>3</th>\n",
       "      <td>2</td>\n",
       "      <td>monkey</td>\n",
       "      <td>4.651</td>\n",
       "      <td>4.931</td>\n",
       "      <td>Ġmonkey</td>\n",
       "      <td>21657</td>\n",
       "      <td>4022</td>\n",
       "      <td>0.000018</td>\n",
       "      <td>3715</td>\n",
       "      <td>6.621271</td>\n",
       "    </tr>\n",
       "    <tr>\n",
       "      <th>4</th>\n",
       "      <td>3</td>\n",
       "      <td>in</td>\n",
       "      <td>4.951</td>\n",
       "      <td>5.011</td>\n",
       "      <td>Ġin</td>\n",
       "      <td>287</td>\n",
       "      <td>15</td>\n",
       "      <td>0.004237</td>\n",
       "      <td>0</td>\n",
       "      <td>4.444839</td>\n",
       "    </tr>\n",
       "    <tr>\n",
       "      <th>5</th>\n",
       "      <td>4</td>\n",
       "      <td>the</td>\n",
       "      <td>5.051</td>\n",
       "      <td>5.111</td>\n",
       "      <td>Ġthe</td>\n",
       "      <td>262</td>\n",
       "      <td>0</td>\n",
       "      <td>0.392203</td>\n",
       "      <td>262</td>\n",
       "      <td>3.781632</td>\n",
       "    </tr>\n",
       "    <tr>\n",
       "      <th>6</th>\n",
       "      <td>5</td>\n",
       "      <td>middle.</td>\n",
       "      <td>5.151</td>\n",
       "      <td>5.391</td>\n",
       "      <td>Ġmiddle</td>\n",
       "      <td>3504</td>\n",
       "      <td>0</td>\n",
       "      <td>0.172535</td>\n",
       "      <td>3504</td>\n",
       "      <td>5.194292</td>\n",
       "    </tr>\n",
       "    <tr>\n",
       "      <th>7</th>\n",
       "      <td>5</td>\n",
       "      <td>middle.</td>\n",
       "      <td>5.151</td>\n",
       "      <td>5.391</td>\n",
       "      <td>.</td>\n",
       "      <td>13</td>\n",
       "      <td>2</td>\n",
       "      <td>0.142558</td>\n",
       "      <td>0</td>\n",
       "      <td>3.648468</td>\n",
       "    </tr>\n",
       "    <tr>\n",
       "      <th>8</th>\n",
       "      <td>6</td>\n",
       "      <td>So</td>\n",
       "      <td>6.592</td>\n",
       "      <td>6.732</td>\n",
       "      <td>ĠSo</td>\n",
       "      <td>1406</td>\n",
       "      <td>70</td>\n",
       "      <td>0.001563</td>\n",
       "      <td>198</td>\n",
       "      <td>5.696713</td>\n",
       "    </tr>\n",
       "    <tr>\n",
       "      <th>9</th>\n",
       "      <td>7</td>\n",
       "      <td>there's</td>\n",
       "      <td>6.752</td>\n",
       "      <td>6.912</td>\n",
       "      <td>Ġthere</td>\n",
       "      <td>612</td>\n",
       "      <td>16</td>\n",
       "      <td>0.011315</td>\n",
       "      <td>11</td>\n",
       "      <td>4.845644</td>\n",
       "    </tr>\n",
       "  </tbody>\n",
       "</table>\n",
       "</div>"
      ],
      "text/plain": [
       "   word_idx     word  start    end  hftoken  token_id  rank  true_prob  \\\n",
       "0         0      Act  3.710  3.790     ĠAct      2191  1644   0.000012   \n",
       "1         1     one,  3.990  4.190     Ġone       530    92   0.000342   \n",
       "2         1     one,  3.990  4.190        ,        11     3   0.059520   \n",
       "3         2   monkey  4.651  4.931  Ġmonkey     21657  4022   0.000018   \n",
       "4         3       in  4.951  5.011      Ġin       287    15   0.004237   \n",
       "5         4      the  5.051  5.111     Ġthe       262     0   0.392203   \n",
       "6         5  middle.  5.151  5.391  Ġmiddle      3504     0   0.172535   \n",
       "7         5  middle.  5.151  5.391        .        13     2   0.142558   \n",
       "8         6       So  6.592  6.732      ĠSo      1406    70   0.001563   \n",
       "9         7  there's  6.752  6.912   Ġthere       612    16   0.011315   \n",
       "\n",
       "   top_pred   entropy  \n",
       "0         0  2.402722  \n",
       "1       352  3.732055  \n",
       "2        25  4.259335  \n",
       "3      3715  6.621271  \n",
       "4         0  4.444839  \n",
       "5       262  3.781632  \n",
       "6      3504  5.194292  \n",
       "7         0  3.648468  \n",
       "8       198  5.696713  \n",
       "9        11  4.845644  "
      ]
     },
     "execution_count": 15,
     "metadata": {},
     "output_type": "execute_result"
    }
   ],
   "source": [
    "df[\"rank\"] = np.concatenate(ranks)\n",
    "df[\"true_prob\"] = np.concatenate(true_probs)\n",
    "df[\"top_pred\"] = np.concatenate(top_guesses)\n",
    "df[\"entropy\"] = np.concatenate(entropies)\n",
    "\n",
    "df.head(10)"
   ]
  },
  {
   "cell_type": "code",
   "execution_count": 16,
   "id": "23f19393",
   "metadata": {},
   "outputs": [
    {
     "name": "stdout",
     "output_type": "stream",
     "text": [
      "There are 49 layers of embeddings\n",
      "Each word embedding is (32, 1600) dimensions long\n"
     ]
    }
   ],
   "source": [
    "print(f\"There are {len(embeddings[0])} layers of embeddings\")\n",
    "print(f\"Each word embedding is {embeddings[0][0].shape} dimensions long\")"
   ]
  },
  {
   "cell_type": "code",
   "execution_count": null,
   "id": "00c3e27f",
   "metadata": {},
   "outputs": [
    {
     "name": "stdout",
     "output_type": "stream",
     "text": [
      "torch.Size([5491, 49, 1600])\n"
     ]
    }
   ],
   "source": [
    "import torch\n",
    "import numpy as np\n",
    "\n",
    "all_embeddings = []\n",
    "\n",
    "for batch_embed in embeddings:  # embeddings[i] = list of 49 tensors, ognuno [batch_size, hidden_dim]\n",
    "    # Trasforma in tensor [49, batch_size, hidden_dim]\n",
    "    batch_tensor = torch.stack([torch.tensor(e) for e in batch_embed], dim=0)  # [n_layer, batch_size, hidden]\n",
    "    batch_tensor = batch_tensor.permute(1, 0, 2)\n",
    "    all_embeddings.append(batch_tensor)\n",
    "\n",
    "final_embeddings = torch.cat(all_embeddings, dim=0)\n",
    "print(final_embeddings.shape)\n"
   ]
  },
  {
   "cell_type": "code",
   "execution_count": 123,
   "id": "2c61d9a5",
   "metadata": {},
   "outputs": [
    {
     "name": "stdout",
     "output_type": "stream",
     "text": [
      "(5491, 768)\n"
     ]
    }
   ],
   "source": [
    "layer_index = -2\n",
    "\n",
    "all_embeddings = np.concatenate(\n",
    "    [batch[layer_index] for batch in embeddings],  # ogni elemento ha shape (batch_size, 33, 768)\n",
    "    axis=0  \n",
    ")\n",
    "\n",
    "print(all_embeddings.shape)"
   ]
  },
  {
   "cell_type": "code",
   "execution_count": 28,
   "id": "2e1ddadd",
   "metadata": {},
   "outputs": [
    {
     "name": "stdout",
     "output_type": "stream",
     "text": [
      "Model accuracy: 30.942%\n"
     ]
    },
    {
     "data": {
      "text/html": [
       "<div>\n",
       "<style scoped>\n",
       "    .dataframe tbody tr th:only-of-type {\n",
       "        vertical-align: middle;\n",
       "    }\n",
       "\n",
       "    .dataframe tbody tr th {\n",
       "        vertical-align: top;\n",
       "    }\n",
       "\n",
       "    .dataframe thead th {\n",
       "        text-align: right;\n",
       "    }\n",
       "</style>\n",
       "<table border=\"1\" class=\"dataframe\">\n",
       "  <thead>\n",
       "    <tr style=\"text-align: right;\">\n",
       "      <th></th>\n",
       "      <th>word_idx</th>\n",
       "      <th>word</th>\n",
       "      <th>start</th>\n",
       "      <th>end</th>\n",
       "      <th>hftoken</th>\n",
       "      <th>token_id</th>\n",
       "      <th>rank</th>\n",
       "      <th>true_prob</th>\n",
       "      <th>top_pred</th>\n",
       "      <th>entropy</th>\n",
       "    </tr>\n",
       "  </thead>\n",
       "  <tbody>\n",
       "    <tr>\n",
       "      <th>0</th>\n",
       "      <td>0</td>\n",
       "      <td>Act</td>\n",
       "      <td>3.710</td>\n",
       "      <td>3.790</td>\n",
       "      <td>ĠAct</td>\n",
       "      <td>2191</td>\n",
       "      <td>1644</td>\n",
       "      <td>0.000012</td>\n",
       "      <td>0</td>\n",
       "      <td>2.402722</td>\n",
       "    </tr>\n",
       "    <tr>\n",
       "      <th>1</th>\n",
       "      <td>1</td>\n",
       "      <td>one,</td>\n",
       "      <td>3.990</td>\n",
       "      <td>4.190</td>\n",
       "      <td>Ġone</td>\n",
       "      <td>530</td>\n",
       "      <td>92</td>\n",
       "      <td>0.000342</td>\n",
       "      <td>352</td>\n",
       "      <td>3.732055</td>\n",
       "    </tr>\n",
       "    <tr>\n",
       "      <th>2</th>\n",
       "      <td>1</td>\n",
       "      <td>one,</td>\n",
       "      <td>3.990</td>\n",
       "      <td>4.190</td>\n",
       "      <td>,</td>\n",
       "      <td>11</td>\n",
       "      <td>3</td>\n",
       "      <td>0.059520</td>\n",
       "      <td>25</td>\n",
       "      <td>4.259335</td>\n",
       "    </tr>\n",
       "    <tr>\n",
       "      <th>3</th>\n",
       "      <td>2</td>\n",
       "      <td>monkey</td>\n",
       "      <td>4.651</td>\n",
       "      <td>4.931</td>\n",
       "      <td>Ġmonkey</td>\n",
       "      <td>21657</td>\n",
       "      <td>4022</td>\n",
       "      <td>0.000018</td>\n",
       "      <td>3715</td>\n",
       "      <td>6.621271</td>\n",
       "    </tr>\n",
       "    <tr>\n",
       "      <th>4</th>\n",
       "      <td>3</td>\n",
       "      <td>in</td>\n",
       "      <td>4.951</td>\n",
       "      <td>5.011</td>\n",
       "      <td>Ġin</td>\n",
       "      <td>287</td>\n",
       "      <td>15</td>\n",
       "      <td>0.004237</td>\n",
       "      <td>0</td>\n",
       "      <td>4.444839</td>\n",
       "    </tr>\n",
       "  </tbody>\n",
       "</table>\n",
       "</div>"
      ],
      "text/plain": [
       "   word_idx    word  start    end  hftoken  token_id  rank  true_prob  \\\n",
       "0         0     Act  3.710  3.790     ĠAct      2191  1644   0.000012   \n",
       "1         1    one,  3.990  4.190     Ġone       530    92   0.000342   \n",
       "2         1    one,  3.990  4.190        ,        11     3   0.059520   \n",
       "3         2  monkey  4.651  4.931  Ġmonkey     21657  4022   0.000018   \n",
       "4         3      in  4.951  5.011      Ġin       287    15   0.004237   \n",
       "\n",
       "   top_pred   entropy  \n",
       "0         0  2.402722  \n",
       "1       352  3.732055  \n",
       "2        25  4.259335  \n",
       "3      3715  6.621271  \n",
       "4         0  4.444839  "
      ]
     },
     "execution_count": 28,
     "metadata": {},
     "output_type": "execute_result"
    }
   ],
   "source": [
    "# transcript_path = f\"{bids_root}/stimuli/gpt2-xl/transcript.tsv\"\n",
    "df_contextual = df\n",
    "if \"rank\" in df_contextual.columns:\n",
    "    model_acc = (df_contextual[\"rank\"] == 0).mean()\n",
    "    print(f\"Model accuracy: {model_acc*100:.3f}%\")\n",
    "\n",
    "df_contextual.head()"
   ]
  },
  {
   "cell_type": "code",
   "execution_count": null,
   "id": "34e20d43",
   "metadata": {},
   "outputs": [
    {
     "name": "stdout",
     "output_type": "stream",
     "text": [
      "Aligned embeddings shape: (5136, 49, 1600)\n"
     ]
    }
   ],
   "source": [
    "import numpy as np\n",
    "\n",
    "n_layers = final_embeddings.shape[1]\n",
    "hidden_dim = final_embeddings.shape[2]\n",
    "\n",
    "aligned_embeddings_by_layer = []\n",
    "\n",
    "for layer in tqdm.tqdm(range(n_layers)):\n",
    "    layer_emb = final_embeddings[:, layer, :]  # shape: [n_samples, hidden_dim]\n",
    "    \n",
    "    aligned_embeddings = []\n",
    "    for _, group in df_contextual.groupby(\"word_idx\"):  # group by word_idx\n",
    "        indices = group.index.to_numpy()\n",
    "        avg_emb = layer_emb[indices].mean(0)  # average over those rows\n",
    "        aligned_embeddings.append(avg_emb.numpy())  # or keep as tensor\n",
    "\n",
    "    aligned_embeddings_by_layer.append(np.stack(aligned_embeddings))  # shape: [n_word_idx, hidden_dim]\n",
    "\n",
    "final_aligned = np.stack(aligned_embeddings_by_layer, axis=1)  # [n_word_idx, 49, hidden_dim]\n",
    "print(f\"Aligned embeddings shape: {final_aligned.shape}\")\n"
   ]
  },
  {
   "cell_type": "code",
   "execution_count": 125,
   "id": "ed39ffa1",
   "metadata": {},
   "outputs": [
    {
     "name": "stdout",
     "output_type": "stream",
     "text": [
      "LLM embeddings matrix has shape: (5136, 768)\n"
     ]
    }
   ],
   "source": [
    "aligned_embeddings = []\n",
    "for _, group in df_contextual.groupby(\"word_idx\"): # group by word index\n",
    "    indices = group.index.to_numpy()\n",
    "    average_emb = all_embeddings[indices].mean(0) # average features\n",
    "    aligned_embeddings.append(average_emb)\n",
    "aligned_embeddings = np.stack(aligned_embeddings)\n",
    "print(f\"LLM embeddings matrix has shape: {aligned_embeddings.shape}\")"
   ]
  },
  {
   "cell_type": "code",
   "execution_count": 126,
   "id": "514d944c",
   "metadata": {},
   "outputs": [
    {
     "data": {
      "text/html": [
       "<div>\n",
       "<style scoped>\n",
       "    .dataframe tbody tr th:only-of-type {\n",
       "        vertical-align: middle;\n",
       "    }\n",
       "\n",
       "    .dataframe tbody tr th {\n",
       "        vertical-align: top;\n",
       "    }\n",
       "\n",
       "    .dataframe thead th {\n",
       "        text-align: right;\n",
       "    }\n",
       "</style>\n",
       "<table border=\"1\" class=\"dataframe\">\n",
       "  <thead>\n",
       "    <tr style=\"text-align: right;\">\n",
       "      <th></th>\n",
       "      <th>word</th>\n",
       "      <th>start</th>\n",
       "      <th>end</th>\n",
       "    </tr>\n",
       "    <tr>\n",
       "      <th>word_idx</th>\n",
       "      <th></th>\n",
       "      <th></th>\n",
       "      <th></th>\n",
       "    </tr>\n",
       "  </thead>\n",
       "  <tbody>\n",
       "    <tr>\n",
       "      <th>0</th>\n",
       "      <td>Act</td>\n",
       "      <td>3.710</td>\n",
       "      <td>3.790</td>\n",
       "    </tr>\n",
       "    <tr>\n",
       "      <th>1</th>\n",
       "      <td>one,</td>\n",
       "      <td>3.990</td>\n",
       "      <td>4.190</td>\n",
       "    </tr>\n",
       "    <tr>\n",
       "      <th>2</th>\n",
       "      <td>monkey</td>\n",
       "      <td>4.651</td>\n",
       "      <td>4.931</td>\n",
       "    </tr>\n",
       "    <tr>\n",
       "      <th>3</th>\n",
       "      <td>in</td>\n",
       "      <td>4.951</td>\n",
       "      <td>5.011</td>\n",
       "    </tr>\n",
       "    <tr>\n",
       "      <th>4</th>\n",
       "      <td>the</td>\n",
       "      <td>5.051</td>\n",
       "      <td>5.111</td>\n",
       "    </tr>\n",
       "  </tbody>\n",
       "</table>\n",
       "</div>"
      ],
      "text/plain": [
       "            word  start    end\n",
       "word_idx                      \n",
       "0            Act  3.710  3.790\n",
       "1           one,  3.990  4.190\n",
       "2         monkey  4.651  4.931\n",
       "3             in  4.951  5.011\n",
       "4            the  5.051  5.111"
      ]
     },
     "execution_count": 126,
     "metadata": {},
     "output_type": "execute_result"
    }
   ],
   "source": [
    "df_word = df_contextual.groupby(\"word_idx\").agg(dict(word=\"first\", start=\"first\", end=\"last\"))\n",
    "df_word.head()"
   ]
  },
  {
   "cell_type": "code",
   "execution_count": 127,
   "id": "c60df1af",
   "metadata": {},
   "outputs": [],
   "source": [
    "df_word.to_csv(\"/srv/nfs-data/sisko/matteoc/podcast/df_word.csv\", index=False)\n",
    "torch.save(torch.tensor(aligned_embeddings), \"/srv/nfs-data/sisko/matteoc/podcast/text_embeds_gpt_eleven.pt\")"
   ]
  },
  {
   "cell_type": "markdown",
   "id": "038ade65",
   "metadata": {},
   "source": [
    "## Start from Here"
   ]
  },
  {
   "cell_type": "code",
   "execution_count": null,
   "id": "40f65ccc",
   "metadata": {},
   "outputs": [],
   "source": [
    "# from transformers import WhisperProcessor, WhisperForConditionalGeneration, AutoFeatureExtractor, AutoProcessor, WhisperTokenizer\n",
    "# import torchaudio\n",
    "\n",
    "# model_name = \"openai/whisper-base\"\n",
    "\n",
    "# model_w = WhisperForConditionalGeneration.from_pretrained(\"openai/whisper-base\")\n",
    "# feature_extractor = AutoFeatureExtractor.from_pretrained(model_name)\n",
    "# tokenizer_w = WhisperTokenizer.from_pretrained(model_name)\n",
    "# processor_w = AutoProcessor.from_pretrained(model_name)\n",
    "# model_w.eval()\n",
    "# model_w.to(device)"
   ]
  },
  {
   "cell_type": "code",
   "execution_count": 5,
   "id": "386111d4",
   "metadata": {},
   "outputs": [
    {
     "name": "stderr",
     "output_type": "stream",
     "text": [
      "/tmp/ipykernel_2098456/1920131353.py:20: WavFileWarning: Chunk (non-data) not understood, skipping it.\n",
      "  audio_sf, audio_wave = wavfile.read(audio_path)\n"
     ]
    }
   ],
   "source": [
    "from utils import preprocess_raw_audio\n",
    "from scipy.io import wavfile\n",
    "\n",
    "file_path = BIDSPath(root=bids_root+\"/derivatives/ecogprep\",\n",
    "                     subject=subject,\n",
    "                     task=\"podcast\",\n",
    "                     datatype=\"ieeg\",\n",
    "                     suffix=\"ieeg\",\n",
    "                     extension=\"fif\")\n",
    "\n",
    "\n",
    "transcript_path = f\"{bids_root}/stimuli/podcast_transcript.csv\"\n",
    "df = pd.read_csv(transcript_path)\n",
    "df.dropna(subset=['start'], inplace=True)\n",
    "df.sort_values(\"start\", inplace=True)\n",
    "events = np.zeros((len(df), 3))\n",
    "events[:, 0] = df.start\n",
    "\n",
    "audio_path = f\"{bids_root}/stimuli/podcast.wav\"\n",
    "audio_sf, audio_wave = wavfile.read(audio_path)\n",
    "audio_wave_clean = preprocess_raw_audio(audio_wave, audio_sf)"
   ]
  },
  {
   "cell_type": "code",
   "execution_count": 6,
   "id": "b9fd939d",
   "metadata": {},
   "outputs": [],
   "source": [
    "from torch.nn.utils.rnn import pad_sequence\n",
    "import tqdm\n",
    "\n",
    "download_text = False\n",
    "\n",
    "def get_text_and_brain(file_path, df, tmax=2.0, pre_audio=2.0, pre_stimulus=2.0,\n",
    "                          model=None, tokenizer=None,\n",
    "                          device=device, context_len=32):\n",
    "    \n",
    "    model = model.to(device)\n",
    "\n",
    "    raw = mne.io.read_raw_fif(file_path, verbose=False)\n",
    "    raw = raw.pick(\"ecog\", exclude=\"bads\")\n",
    "    raw.load_data()\n",
    "    raw = raw.apply_function(func, channel_wise=True, verbose=False)\n",
    "\n",
    "    # events = np.zeros((len(df), 3), dtype=int)\n",
    "    # events[:, 0] = (df.start * raw.info['sfreq']).astype(int)\n",
    "    df.dropna(subset=['start'], inplace=True)\n",
    "    df.sort_values(\"start\", inplace=True)\n",
    "    events = np.zeros((len(df), 3))\n",
    "    events[:, 0] = df.start\n",
    "\n",
    "    epochs = mne.Epochs(\n",
    "        raw,\n",
    "        (events * raw.info['sfreq']).astype(int),\n",
    "        tmin=-pre_stimulus,\n",
    "        tmax=tmax,\n",
    "        baseline=None,\n",
    "        proj=False,\n",
    "        event_id=None,\n",
    "        preload=True,\n",
    "        event_repeated=\"merge\",\n",
    "        verbose=False\n",
    "    )\n",
    "    good_idx = epochs.selection\n",
    "    print(f\"Epochs object has a shape of: {epochs._data.shape}\")\n",
    "    epochs = epochs.resample(sfreq=ecog_sr_down, npad='auto', method='fft', window='hamming')\n",
    "    epochs_snippet = epochs._data\n",
    "    print(f\"Epochs object after down-sampling has a shape of: {epochs_snippet.shape}\")\n",
    "    \n",
    "    attention_mask_list = []\n",
    "    if download_text:\n",
    "        text_decoder_embd = []\n",
    "        embedd_eleven = []\n",
    "        embedd_ten = []\n",
    "        embedd_nine = []\n",
    "        embedd_eight = []\n",
    "        embedd_seven = []\n",
    "        embedd_six = []\n",
    "        embedd_fifth = []\n",
    "        embedd_four = []\n",
    "        embedd_third = []\n",
    "        embedd_second = []\n",
    "\n",
    "        for row_idx in tqdm.tqdm(good_idx):\n",
    "            \n",
    "            row = df.iloc[row_idx]\n",
    "            word_list = df[\n",
    "                (df[\"start\"] >= row[\"start\"] - pre_audio) & \n",
    "                (df[\"start\"] <= row[\"start\"])\n",
    "            ]\n",
    "            words_in_segment = word_list[\"word\"].tolist()\n",
    "            transcription = \" \".join(words_in_segment)\n",
    "\n",
    "            # row = df.iloc[row_idx]\n",
    "            # current_idx = row.name  \n",
    "            # start_idx = max(0, current_idx - context_len)\n",
    "            # end_idx = min(len(df), current_idx + 1)  \n",
    "            # words_in_context = df.iloc[start_idx:end_idx][\"word\"].tolist()\n",
    "            # transcription_context = \" \".join(words_in_context)\n",
    "\n",
    "            with torch.no_grad():    \n",
    "                # -------- GPT\n",
    "                inputs = tokenizer(\n",
    "                    transcription, \n",
    "                    return_tensors=\"pt\"\n",
    "                )\n",
    "                input_ids = inputs[\"input_ids\"].to(device)\n",
    "                attention_mask = inputs[\"attention_mask\"].to(device)\n",
    "                outputs = model(input_ids, attention_mask=attention_mask, output_hidden_states=True)\n",
    "                last_hidden_dec = outputs.hidden_states[-1].squeeze(0)\n",
    "                eleven_hidden = outputs.hidden_states[-2].squeeze(0)\n",
    "                ten_hidden = outputs.hidden_states[-3].squeeze(0)\n",
    "                nine_hidden = outputs.hidden_states[-4].squeeze(0)\n",
    "                eight_hidden = outputs.hidden_states[-5].squeeze(0)\n",
    "                seven_hidden = outputs.hidden_states[-6].squeeze(0)\n",
    "                six_hidden = outputs.hidden_states[-7].squeeze(0)\n",
    "                fifth_hidden = outputs.hidden_states[-8].squeeze(0)\n",
    "                four_hidden = outputs.hidden_states[-9].squeeze(0)\n",
    "                third_hidden = outputs.hidden_states[-10].squeeze(0)\n",
    "                second_hidden = outputs.hidden_states[-11].squeeze(0)\n",
    "                attention_mask = attention_mask.squeeze(0)\n",
    "                text_decoder_embd.append(last_hidden_dec.cpu())\n",
    "                attention_mask_list.append(attention_mask.cpu())\n",
    "                embedd_eleven.append(eleven_hidden.cpu())\n",
    "                embedd_ten.append(ten_hidden.cpu())\n",
    "                embedd_nine.append(nine_hidden.cpu())\n",
    "                embedd_eight.append(eight_hidden.cpu())\n",
    "                embedd_seven.append(seven_hidden.cpu())\n",
    "                embedd_six.append(six_hidden.cpu())\n",
    "                embedd_fifth.append(fifth_hidden.cpu())\n",
    "                embedd_four.append(four_hidden.cpu())\n",
    "                embedd_third.append(third_hidden.cpu())\n",
    "                embedd_second.append(second_hidden.cpu())\n",
    "\n",
    "        \n",
    "        text_decoder_embd = pad_sequence(text_decoder_embd, batch_first=True, padding_side='left')   \n",
    "        embedd_eleven = pad_sequence(embedd_eleven, batch_first=True, padding_side='left')\n",
    "        embedd_ten = pad_sequence(embedd_ten, batch_first=True, padding_side='left')\n",
    "        embedd_nine = pad_sequence(embedd_nine, batch_first=True, padding_side='left')\n",
    "        embedd_eight = pad_sequence(embedd_eight, batch_first=True, padding_side='left')\n",
    "        embedd_seven = pad_sequence(embedd_seven, batch_first=True, padding_side='left')\n",
    "        embedd_six = pad_sequence(embedd_six, batch_first=True, padding_side='left')\n",
    "        embedd_fifth = pad_sequence(embedd_fifth, batch_first=True, padding_side='left')\n",
    "        embedd_four = pad_sequence(embedd_four, batch_first=True, padding_side='left')\n",
    "        embedd_third = pad_sequence(embedd_third, batch_first=True, padding_side='left')\n",
    "        embedd_second = pad_sequence(embedd_second, batch_first=True, padding_side='left')\n",
    "        # text_decoder_embd = torch.stack(text_decoder_embd, dim=0) \n",
    "        attention_mask_list = pad_sequence(attention_mask_list, batch_first=True, padding_side='left')  \n",
    "        # torch.save(text_decoder_embd, f\"{base_path}/matteoc/podcast/text_2_2_sec_last.pt\")\n",
    "        # torch.save(embedd_eleven, f\"{base_path}/matteoc/podcast/text_2_2_sec_eleven.pt\")\n",
    "        # torch.save(embedd_ten, f\"{base_path}/matteoc/podcast/text_2_2_sec_ten.pt\")\n",
    "        # torch.save(embedd_nine, f\"{base_path}/matteoc/podcast/text_2_2_sec_nine.pt\")\n",
    "        # torch.save(embedd_eight, f\"{base_path}/matteoc/podcast/text_2_2_sec_eight.pt\")\n",
    "        # torch.save(embedd_seven, f\"{base_path}/matteoc/podcast/text_2_2_sec_seven.pt\")\n",
    "        # torch.save(embedd_six, f\"{base_path}/matteoc/podcast/text_2_2_sec_six.pt\")\n",
    "        torch.save(embedd_fifth, f\"{base_path}/matteoc/podcast/text_2_2_sec_fifth.pt\")\n",
    "        torch.save(embedd_four, f\"{base_path}/matteoc/podcast/text_2_2_sec_four.pt\")\n",
    "        torch.save(embedd_third, f\"{base_path}/matteoc/podcast/text_2_2_sec_third.pt\")\n",
    "        torch.save(embedd_second, f\"{base_path}/matteoc/podcast/text_2_2_sec_second.pt\")\n",
    "\n",
    "    else:\n",
    "        text_decoder_embd = torch.load(f\"{base_path}/matteoc/podcast/text_2_2_sec_last.pt\")\n",
    "\n",
    "    print(f\"Text snippets after processing have a shape of: {text_decoder_embd.shape}\")\n",
    "\n",
    "    return epochs_snippet, text_decoder_embd, attention_mask_list, good_idx"
   ]
  },
  {
   "cell_type": "code",
   "execution_count": null,
   "id": "092eae4f",
   "metadata": {},
   "outputs": [],
   "source": [
    "# from torch.nn.utils.rnn import pad_sequence\n",
    "# import tqdm\n",
    "\n",
    "# download_text = True\n",
    "\n",
    "# def get_text_and_brain_w(file_path, df, tmax=2.0, pre_audio=2.0, pre_stimulus=2.0,\n",
    "#                           model=None, tokenizer=None, processor=None,\n",
    "#                           device=device, context_len=32):\n",
    "    \n",
    "#     model = model.to(device)\n",
    "\n",
    "#     raw = mne.io.read_raw_fif(file_path, verbose=False)\n",
    "#     raw.load_data()\n",
    "#     raw = raw.apply_function(func, channel_wise=True, verbose=False)\n",
    "\n",
    "#     # events = np.zeros((len(df), 3), dtype=int)\n",
    "#     # events[:, 0] = (df.start * raw.info['sfreq']).astype(int)\n",
    "#     df.dropna(subset=['start'], inplace=True)\n",
    "#     df.sort_values(\"start\", inplace=True)\n",
    "#     events = np.zeros((len(df), 3))\n",
    "#     events[:, 0] = df.start\n",
    "\n",
    "#     epochs = mne.Epochs(\n",
    "#         raw,\n",
    "#         (events * raw.info['sfreq']).astype(int),\n",
    "#         tmin=-pre_stimulus,\n",
    "#         tmax=tmax,\n",
    "#         baseline=None,\n",
    "#         proj=False,\n",
    "#         event_id=None,\n",
    "#         preload=True,\n",
    "#         event_repeated=\"merge\",\n",
    "#         verbose=False\n",
    "#     )\n",
    "#     good_idx = epochs.selection\n",
    "#     print(f\"Epochs object has a shape of: {epochs._data.shape}\")\n",
    "#     epochs = epochs.resample(sfreq=ecog_sr_down, npad='auto', method='fft', window='hamming')\n",
    "#     epochs_snippet = epochs._data\n",
    "#     print(f\"Epochs object after down-sampling has a shape of: {epochs_snippet.shape}\")\n",
    "\n",
    "#     if download_text:\n",
    "#         text_decoder_embd = []\n",
    "\n",
    "#         for idx, row in tqdm.tqdm(enumerate(good_idx)):\n",
    "#             row = df.iloc[idx]\n",
    "#             start_sample = int((row['start']) * audio_sf) \n",
    "#             end_sample = start_sample + int(tmax * audio_sf)\n",
    "#             snippet = audio_wave_clean[start_sample - int(pre_audio * audio_sf):end_sample]\n",
    "#             if len(snippet) < int(tmax * audio_sf):\n",
    "#                 padding_len = int(tmax * audio_sf) - len(snippet)\n",
    "#                 snippet = np.pad(snippet, (0, padding_len), mode='constant')\n",
    "#             snippet = torchaudio.transforms.Resample(audio_sf, whisper_sr)(torch.tensor(snippet).float())\n",
    "#             inputs = processor(snippet.squeeze(0), sampling_rate=whisper_sr, return_tensors=\"pt\")\n",
    "#             input_features = inputs['input_features'].to(device)\n",
    "#             with torch.no_grad():\n",
    "#                 encoder_outputs = model.model.encoder(input_features=input_features, output_hidden_states=True)\n",
    "            \n",
    "#                 word_list = df[\n",
    "#                     (df[\"start\"] >= row[\"start\"] - pre_audio) & \n",
    "#                     (df[\"end\"] <= row[\"start\"] + tmax)\n",
    "#                 ]\n",
    "#                 words_in_segment = word_list[\"word\"].tolist()\n",
    "#                 transcription = \" \".join(words_in_segment)\n",
    "#                 decoder_inputs = tokenizer(transcription, return_tensors=\"pt\").input_ids.to(device)\n",
    "#                 outputs = model.model.decoder(\n",
    "#                     input_ids=decoder_inputs,\n",
    "#                     encoder_hidden_states=encoder_outputs.last_hidden_state.to(device),\n",
    "#                     output_hidden_states=True,\n",
    "#                     return_dict=True\n",
    "#                 )\n",
    "#                 decoder_hidden_states = outputs.hidden_states[-1]\n",
    "#                 text_decoder_embd.append(decoder_hidden_states.squeeze(0))\n",
    "        \n",
    "#         text_decoder_embd = pad_sequence(text_decoder_embd, batch_first=True, padding_side='left')   \n",
    "#         # text_decoder_embd = torch.stack(text_decoder_embd, dim=0) \n",
    "#         # torch.save(text_decoder_embd, f\"{base_path}/matteoc/podcast/text_2_2_sec.pt\")\n",
    "\n",
    "#     else:\n",
    "#         text_decoder_embd = torch.load(f\"{base_path}/matteoc/podcast/text_token_embeds_gpt.pt\")\n",
    "#         text_decoder_embd = text_decoder_embd[good_idx]\n",
    "\n",
    "#     print(f\"Text snippets after processing have a shape of: {text_decoder_embd.shape}\")\n",
    "\n",
    "#     return epochs_snippet, text_decoder_embd"
   ]
  },
  {
   "cell_type": "code",
   "execution_count": 7,
   "id": "6d4618c0",
   "metadata": {},
   "outputs": [
    {
     "name": "stdout",
     "output_type": "stream",
     "text": [
      "Reading 0 ... 921599  =      0.000 ...  1799.998 secs...\n",
      "Epochs object has a shape of: (5130, 235, 2049)\n",
      "Epochs object after down-sampling has a shape of: (5130, 235, 128)\n"
     ]
    },
    {
     "name": "stderr",
     "output_type": "stream",
     "text": [
      "/tmp/ipykernel_2098456/114609266.py:134: FutureWarning: You are using `torch.load` with `weights_only=False` (the current default value), which uses the default pickle module implicitly. It is possible to construct malicious pickle data which will execute arbitrary code during unpickling (See https://github.com/pytorch/pytorch/blob/main/SECURITY.md#untrusted-models for more details). In a future release, the default value for `weights_only` will be flipped to `True`. This limits the functions that could be executed during unpickling. Arbitrary objects will no longer be allowed to be loaded via this mode unless they are explicitly allowlisted by the user via `torch.serialization.add_safe_globals`. We recommend you start setting `weights_only=True` for any use case where you don't have full control of the loaded file. Please open an issue on GitHub for any issues related to this experimental feature.\n",
      "  text_decoder_embd = torch.load(f\"{base_path}/matteoc/podcast/text_2_2_sec_last.pt\")\n"
     ]
    },
    {
     "name": "stdout",
     "output_type": "stream",
     "text": [
      "Text snippets after processing have a shape of: torch.Size([5130, 21, 768])\n"
     ]
    }
   ],
   "source": [
    "df_word = pd.read_csv(\"/srv/nfs-data/sisko/matteoc/podcast/df_word.csv\")\n",
    "brain_data, text_decoder_embd, attention_mask_list, good_idx = get_text_and_brain(file_path, df=df, tmax=tmax, model=model_gpt,\n",
    "                                                      tokenizer=tokenizer_gpt, pre_stimulus=pre_stimulus, \n",
    "                                                      pre_audio=pre_audio)\n",
    "# text_decoder_embd = text_decoder_embd[good_idx]\n",
    "# X_padded = F.pad(text_decoder_embd, (0, 0, 23, 0))\n",
    "# X_windowed = X_padded.unfold(dimension=0, size=24, step=1)\n",
    "# X_windowed = X_windowed.permute(0,2,1)\n"
   ]
  },
  {
   "cell_type": "code",
   "execution_count": 8,
   "id": "45e1dd0c",
   "metadata": {},
   "outputs": [
    {
     "data": {
      "text/plain": [
       "(0.0008530822839909778, 0.9270900334094264, tensor(0.1162), tensor(4.7537))"
      ]
     },
     "execution_count": 8,
     "metadata": {},
     "output_type": "execute_result"
    }
   ],
   "source": [
    "brain_data.mean(), brain_data.std(), text_decoder_embd.mean(), text_decoder_embd.std()"
   ]
  },
  {
   "cell_type": "code",
   "execution_count": null,
   "id": "2c336dcb",
   "metadata": {},
   "outputs": [],
   "source": [
    "def repeat_with_noise(x, repeats=6, noise_std=0.1):\n",
    "    \n",
    "    batch_size, time_in, dim = x.shape\n",
    "    x_rep = x.repeat_interleave(repeats=repeats, dim=1)  # (batch, time_in * repeats, dim)\n",
    "    mask = torch.zeros_like(x_rep, dtype=torch.bool)\n",
    "    for i in tqdm(range(time_in)):\n",
    "        mask[:, i * repeats] = True \n",
    "    noise = torch.randn_like(x_rep) * noise_std\n",
    "    x_rep = torch.where(mask, x_rep, x_rep + noise)\n",
    "\n",
    "    return x_rep  # (batch, time_in * repeats, dim)\n",
    "\n",
    "\n",
    "def repeat_with_noise_end(x, repeats=6, noise_std=0.1):\n",
    "    batch_size, time_in, dim = x.shape\n",
    "\n",
    "    x_rep = x.repeat_interleave(repeats - 1, dim=1)  # (batch, time_in * (repeats-1), dim)\n",
    "    noise = torch.randn_like(x_rep) * noise_std\n",
    "    x_rep_noisy = x_rep + noise\n",
    "\n",
    "    x_final = torch.cat([x_rep_noisy, x], dim=1)  # (batch, time_in * (repeats-1) + time_in, dim)\n",
    "\n",
    "    return x_final\n",
    "\n",
    "\n",
    "text_decoder_embd_augm = repeat_with_noise_end(text_decoder_embd)\n",
    "\n",
    "print(text_decoder_embd_augm.shape)"
   ]
  },
  {
   "cell_type": "code",
   "execution_count": 9,
   "id": "49f1168b",
   "metadata": {},
   "outputs": [],
   "source": [
    "brain_timep = brain_data.shape[-1]\n",
    "brain_channels = brain_data.shape[1]\n",
    "audio_timep = text_decoder_embd.shape[1]\n",
    "text_feature = text_decoder_embd.shape[-1]"
   ]
  },
  {
   "cell_type": "code",
   "execution_count": 21,
   "id": "f601dfef",
   "metadata": {},
   "outputs": [
    {
     "name": "stderr",
     "output_type": "stream",
     "text": [
      "/tmp/ipykernel_1986231/819218728.py:19: UserWarning: To copy construct from a tensor, it is recommended to use sourceTensor.clone().detach() or sourceTensor.clone().detach().requires_grad_(True), rather than torch.tensor(sourceTensor).\n",
      "  stimuli = torch.tensor(text_decoder_embd).to(torch.float32)\n"
     ]
    }
   ],
   "source": [
    "from torch.utils.data import TensorDataset, DataLoader, Subset\n",
    "from sklearn.preprocessing import StandardScaler\n",
    "import torch\n",
    "\n",
    "n = brain_data.shape[0]\n",
    "train_size = int(0.5 * n)\n",
    "val_size = int(0.1 * n)\n",
    "test_size = n - train_size - val_size\n",
    "\n",
    "indices = list(range(n))\n",
    "train_idx = indices[:train_size]\n",
    "val_idx   = indices[train_size:train_size+val_size]\n",
    "test_idx  = indices[train_size+val_size:]\n",
    "\n",
    "brain_train_std = torch.tensor(brain_data[train_idx], dtype=torch.float32)\n",
    "brain_val_std   = torch.tensor(brain_data[val_idx],   dtype=torch.float32)\n",
    "brain_test_std  = torch.tensor(brain_data[test_idx],  dtype=torch.float32)\n",
    "\n",
    "stimuli = torch.tensor(text_decoder_embd).to(torch.float32)\n",
    "stimuli_train = stimuli[train_idx]\n",
    "stimuli_val   = stimuli[val_idx]\n",
    "stimuli_test  = stimuli[test_idx]\n",
    "\n",
    "# attention_masks = torch.tensor(attention_masks).to(torch.float32)\n",
    "# if attention_masks is not None:\n",
    "#     attention_masks_train = attention_masks[train_idx]\n",
    "#     attention_masks_val   = attention_masks[val_idx]\n",
    "#     attention_masks_test  = attention_masks[test_idx]\n",
    "\n",
    "train_ds = TensorDataset(stimuli_train, brain_train_std)\n",
    "val_ds   = TensorDataset(stimuli_val, brain_val_std)\n",
    "test_ds  = TensorDataset(stimuli_test, brain_test_std)\n",
    "\n",
    "batch_size = 32\n",
    "train_loader = DataLoader(train_ds, batch_size=batch_size, shuffle=False)\n",
    "val_loader   = DataLoader(val_ds, batch_size=batch_size, shuffle=False)\n",
    "test_loader  = DataLoader(test_ds, batch_size=batch_size, shuffle=False)\n"
   ]
  },
  {
   "cell_type": "code",
   "execution_count": 22,
   "id": "9bd0fb58",
   "metadata": {},
   "outputs": [],
   "source": [
    "import random\n",
    "\n",
    "def set_seed(seed=42):\n",
    "    random.seed(seed)\n",
    "    np.random.seed(seed)\n",
    "    torch.manual_seed(seed)\n",
    "    torch.cuda.manual_seed_all(seed)  # se usi GPU\n",
    "    torch.backends.cudnn.deterministic = True\n",
    "    torch.backends.cudnn.benchmark = False"
   ]
  },
  {
   "cell_type": "code",
   "execution_count": 23,
   "id": "725c114d",
   "metadata": {},
   "outputs": [
    {
     "name": "stderr",
     "output_type": "stream",
     "text": [
      "Epoch 1/35: 100%|██████████| 81/81 [00:01<00:00, 75.65it/s]\n"
     ]
    },
    {
     "name": "stdout",
     "output_type": "stream",
     "text": [
      "Epoch 1, Train Loss: 3.5465, Val Loss: 3.5120\n"
     ]
    },
    {
     "name": "stderr",
     "output_type": "stream",
     "text": [
      "Epoch 2/35: 100%|██████████| 81/81 [00:01<00:00, 79.53it/s]\n"
     ]
    },
    {
     "name": "stdout",
     "output_type": "stream",
     "text": [
      "Epoch 2, Train Loss: 3.4961, Val Loss: 3.4850\n"
     ]
    },
    {
     "name": "stderr",
     "output_type": "stream",
     "text": [
      "Epoch 3/35: 100%|██████████| 81/81 [00:00<00:00, 81.84it/s]\n"
     ]
    },
    {
     "name": "stdout",
     "output_type": "stream",
     "text": [
      "Epoch 3, Train Loss: 3.4759, Val Loss: 3.4875\n"
     ]
    },
    {
     "name": "stderr",
     "output_type": "stream",
     "text": [
      "Epoch 4/35: 100%|██████████| 81/81 [00:00<00:00, 82.29it/s]\n"
     ]
    },
    {
     "name": "stdout",
     "output_type": "stream",
     "text": [
      "Epoch 4, Train Loss: 3.4577, Val Loss: 3.4513\n"
     ]
    },
    {
     "name": "stderr",
     "output_type": "stream",
     "text": [
      "Epoch 5/35: 100%|██████████| 81/81 [00:01<00:00, 80.51it/s]\n"
     ]
    },
    {
     "name": "stdout",
     "output_type": "stream",
     "text": [
      "Epoch 5, Train Loss: 3.4265, Val Loss: 3.4488\n"
     ]
    },
    {
     "name": "stderr",
     "output_type": "stream",
     "text": [
      "Epoch 6/35: 100%|██████████| 81/81 [00:01<00:00, 77.60it/s]\n"
     ]
    },
    {
     "name": "stdout",
     "output_type": "stream",
     "text": [
      "Epoch 6, Train Loss: 3.3976, Val Loss: 3.4135\n"
     ]
    },
    {
     "name": "stderr",
     "output_type": "stream",
     "text": [
      "Epoch 7/35: 100%|██████████| 81/81 [00:01<00:00, 77.46it/s]\n"
     ]
    },
    {
     "name": "stdout",
     "output_type": "stream",
     "text": [
      "Epoch 7, Train Loss: 3.3665, Val Loss: 3.3902\n"
     ]
    },
    {
     "name": "stderr",
     "output_type": "stream",
     "text": [
      "Epoch 8/35: 100%|██████████| 81/81 [00:00<00:00, 95.90it/s] \n"
     ]
    },
    {
     "name": "stdout",
     "output_type": "stream",
     "text": [
      "Epoch 8, Train Loss: 3.3073, Val Loss: 3.3754\n"
     ]
    },
    {
     "name": "stderr",
     "output_type": "stream",
     "text": [
      "Epoch 9/35: 100%|██████████| 81/81 [00:00<00:00, 100.06it/s]\n"
     ]
    },
    {
     "name": "stdout",
     "output_type": "stream",
     "text": [
      "Epoch 9, Train Loss: 3.2370, Val Loss: 3.3707\n"
     ]
    },
    {
     "name": "stderr",
     "output_type": "stream",
     "text": [
      "Epoch 10/35: 100%|██████████| 81/81 [00:00<00:00, 99.73it/s]\n"
     ]
    },
    {
     "name": "stdout",
     "output_type": "stream",
     "text": [
      "Epoch 10, Train Loss: 3.1501, Val Loss: 3.3584\n"
     ]
    },
    {
     "name": "stderr",
     "output_type": "stream",
     "text": [
      "Epoch 11/35: 100%|██████████| 81/81 [00:00<00:00, 91.84it/s] \n"
     ]
    },
    {
     "name": "stdout",
     "output_type": "stream",
     "text": [
      "Epoch 11, Train Loss: 3.0344, Val Loss: 3.3547\n"
     ]
    },
    {
     "name": "stderr",
     "output_type": "stream",
     "text": [
      "Epoch 12/35: 100%|██████████| 81/81 [00:00<00:00, 96.29it/s] \n"
     ]
    },
    {
     "name": "stdout",
     "output_type": "stream",
     "text": [
      "Epoch 12, Train Loss: 2.9206, Val Loss: 3.4068\n"
     ]
    },
    {
     "name": "stderr",
     "output_type": "stream",
     "text": [
      "Epoch 13/35: 100%|██████████| 81/81 [00:01<00:00, 80.08it/s]\n"
     ]
    },
    {
     "name": "stdout",
     "output_type": "stream",
     "text": [
      "Epoch 13, Train Loss: 2.8925, Val Loss: 3.4580\n"
     ]
    },
    {
     "name": "stderr",
     "output_type": "stream",
     "text": [
      "Epoch 14/35: 100%|██████████| 81/81 [00:01<00:00, 80.02it/s]\n"
     ]
    },
    {
     "name": "stdout",
     "output_type": "stream",
     "text": [
      "Epoch 14, Train Loss: 2.8347, Val Loss: 3.4190\n"
     ]
    },
    {
     "name": "stderr",
     "output_type": "stream",
     "text": [
      "Epoch 15/35: 100%|██████████| 81/81 [00:00<00:00, 82.11it/s]\n"
     ]
    },
    {
     "name": "stdout",
     "output_type": "stream",
     "text": [
      "Epoch 15, Train Loss: 2.7002, Val Loss: 3.4241\n"
     ]
    },
    {
     "name": "stderr",
     "output_type": "stream",
     "text": [
      "Epoch 16/35: 100%|██████████| 81/81 [00:01<00:00, 80.23it/s]\n"
     ]
    },
    {
     "name": "stdout",
     "output_type": "stream",
     "text": [
      "Epoch 16, Train Loss: 2.5274, Val Loss: 3.4421\n"
     ]
    },
    {
     "name": "stderr",
     "output_type": "stream",
     "text": [
      "Epoch 17/35: 100%|██████████| 81/81 [00:01<00:00, 79.90it/s]\n"
     ]
    },
    {
     "name": "stdout",
     "output_type": "stream",
     "text": [
      "Epoch 17, Train Loss: 2.4553, Val Loss: 3.4904\n"
     ]
    },
    {
     "name": "stderr",
     "output_type": "stream",
     "text": [
      "Epoch 18/35: 100%|██████████| 81/81 [00:00<00:00, 83.24it/s]\n"
     ]
    },
    {
     "name": "stdout",
     "output_type": "stream",
     "text": [
      "Epoch 18, Train Loss: 2.3381, Val Loss: 3.4396\n"
     ]
    },
    {
     "name": "stderr",
     "output_type": "stream",
     "text": [
      "Epoch 19/35: 100%|██████████| 81/81 [00:01<00:00, 79.89it/s]\n"
     ]
    },
    {
     "name": "stdout",
     "output_type": "stream",
     "text": [
      "Epoch 19, Train Loss: 2.2632, Val Loss: 3.4520\n"
     ]
    },
    {
     "name": "stderr",
     "output_type": "stream",
     "text": [
      "Epoch 20/35: 100%|██████████| 81/81 [00:01<00:00, 80.52it/s]\n"
     ]
    },
    {
     "name": "stdout",
     "output_type": "stream",
     "text": [
      "Epoch 20, Train Loss: 2.2406, Val Loss: 3.4597\n"
     ]
    },
    {
     "name": "stderr",
     "output_type": "stream",
     "text": [
      "Epoch 21/35: 100%|██████████| 81/81 [00:00<00:00, 84.07it/s]\n"
     ]
    },
    {
     "name": "stdout",
     "output_type": "stream",
     "text": [
      "Epoch 21, Train Loss: 2.2122, Val Loss: 3.4653\n"
     ]
    },
    {
     "name": "stderr",
     "output_type": "stream",
     "text": [
      "Epoch 22/35: 100%|██████████| 81/81 [00:00<00:00, 86.73it/s] \n"
     ]
    },
    {
     "name": "stdout",
     "output_type": "stream",
     "text": [
      "Epoch 22, Train Loss: 2.1907, Val Loss: 3.4748\n"
     ]
    },
    {
     "name": "stderr",
     "output_type": "stream",
     "text": [
      "Epoch 23/35: 100%|██████████| 81/81 [00:01<00:00, 79.08it/s]\n"
     ]
    },
    {
     "name": "stdout",
     "output_type": "stream",
     "text": [
      "Epoch 23, Train Loss: 2.1722, Val Loss: 3.4829\n"
     ]
    },
    {
     "name": "stderr",
     "output_type": "stream",
     "text": [
      "Epoch 24/35: 100%|██████████| 81/81 [00:01<00:00, 79.09it/s]\n"
     ]
    },
    {
     "name": "stdout",
     "output_type": "stream",
     "text": [
      "Epoch 24, Train Loss: 2.1359, Val Loss: 3.4583\n"
     ]
    },
    {
     "name": "stderr",
     "output_type": "stream",
     "text": [
      "Epoch 25/35: 100%|██████████| 81/81 [00:01<00:00, 80.47it/s]\n"
     ]
    },
    {
     "name": "stdout",
     "output_type": "stream",
     "text": [
      "Epoch 25, Train Loss: 2.1238, Val Loss: 3.4574\n"
     ]
    },
    {
     "name": "stderr",
     "output_type": "stream",
     "text": [
      "Epoch 26/35: 100%|██████████| 81/81 [00:01<00:00, 78.99it/s]\n"
     ]
    },
    {
     "name": "stdout",
     "output_type": "stream",
     "text": [
      "Epoch 26, Train Loss: 2.1221, Val Loss: 3.4579\n"
     ]
    },
    {
     "name": "stderr",
     "output_type": "stream",
     "text": [
      "Epoch 27/35: 100%|██████████| 81/81 [00:01<00:00, 77.62it/s]\n"
     ]
    },
    {
     "name": "stdout",
     "output_type": "stream",
     "text": [
      "Epoch 27, Train Loss: 2.1134, Val Loss: 3.4589\n"
     ]
    },
    {
     "name": "stderr",
     "output_type": "stream",
     "text": [
      "Epoch 28/35: 100%|██████████| 81/81 [00:01<00:00, 79.65it/s]\n"
     ]
    },
    {
     "name": "stdout",
     "output_type": "stream",
     "text": [
      "Epoch 28, Train Loss: 2.1160, Val Loss: 3.4604\n"
     ]
    },
    {
     "name": "stderr",
     "output_type": "stream",
     "text": [
      "Epoch 29/35: 100%|██████████| 81/81 [00:01<00:00, 79.99it/s]\n"
     ]
    },
    {
     "name": "stdout",
     "output_type": "stream",
     "text": [
      "Epoch 29, Train Loss: 2.1090, Val Loss: 3.4611\n"
     ]
    },
    {
     "name": "stderr",
     "output_type": "stream",
     "text": [
      "Epoch 30/35: 100%|██████████| 81/81 [00:01<00:00, 77.67it/s]\n"
     ]
    },
    {
     "name": "stdout",
     "output_type": "stream",
     "text": [
      "Epoch 30, Train Loss: 2.1069, Val Loss: 3.4614\n"
     ]
    },
    {
     "name": "stderr",
     "output_type": "stream",
     "text": [
      "Epoch 31/35: 100%|██████████| 81/81 [00:00<00:00, 82.93it/s]\n"
     ]
    },
    {
     "name": "stdout",
     "output_type": "stream",
     "text": [
      "Epoch 31, Train Loss: 2.1038, Val Loss: 3.4615\n"
     ]
    },
    {
     "name": "stderr",
     "output_type": "stream",
     "text": [
      "Epoch 32/35: 100%|██████████| 81/81 [00:01<00:00, 75.69it/s]\n"
     ]
    },
    {
     "name": "stdout",
     "output_type": "stream",
     "text": [
      "Epoch 32, Train Loss: 2.1051, Val Loss: 3.4615\n"
     ]
    },
    {
     "name": "stderr",
     "output_type": "stream",
     "text": [
      "Epoch 33/35: 100%|██████████| 81/81 [00:01<00:00, 75.12it/s]\n"
     ]
    },
    {
     "name": "stdout",
     "output_type": "stream",
     "text": [
      "Epoch 33, Train Loss: 2.1046, Val Loss: 3.4617\n"
     ]
    },
    {
     "name": "stderr",
     "output_type": "stream",
     "text": [
      "Epoch 34/35: 100%|██████████| 81/81 [00:01<00:00, 78.04it/s]\n"
     ]
    },
    {
     "name": "stdout",
     "output_type": "stream",
     "text": [
      "Epoch 34, Train Loss: 2.1034, Val Loss: 3.4618\n"
     ]
    },
    {
     "name": "stderr",
     "output_type": "stream",
     "text": [
      "Epoch 35/35: 100%|██████████| 81/81 [00:01<00:00, 79.54it/s]"
     ]
    },
    {
     "name": "stdout",
     "output_type": "stream",
     "text": [
      "Epoch 35, Train Loss: 2.1031, Val Loss: 3.4619\n"
     ]
    },
    {
     "name": "stderr",
     "output_type": "stream",
     "text": [
      "\n"
     ]
    }
   ],
   "source": [
    "from torch import nn, optim\n",
    "from tqdm import tqdm\n",
    "from models import AttentiveStim2BrainNet, LearnableTau, SoftMappingGRUSeq, Audio2BrainCNN\n",
    "import torch.nn.functional as F\n",
    "\n",
    "set_seed(42)\n",
    "# model = SoftMappingGRUSeq(input_dim=text_feature, hidden_dim=128, time_out=brain_timep, output_channels=brain_channels).to(device)\n",
    "model = AttentiveStim2BrainNet(input_dim=text_feature, output_channels=brain_channels, time_in=audio_timep, time_out=brain_timep, d_model=256, nhead=4, num_layers=2).to(device)   # 256\n",
    "\n",
    "mse_loss = nn.MSELoss()\n",
    "tau_module = LearnableTau(init_tau=0.03).to(device) # 0.03\n",
    "\n",
    "mse_perc = 0.0\n",
    "cl_perc = 1.0\n",
    "\n",
    "def pearson_loss(pred, target, eps=1e-8):\n",
    "    pred = pred - pred.mean(dim=-1, keepdim=True)\n",
    "    target = target - target.mean(dim=-1, keepdim=True)\n",
    "    corr_num = (pred * target).sum(dim=-1)\n",
    "    corr_den = (pred.norm(dim=-1) * target.norm(dim=-1)).clamp(min=eps)\n",
    "    corr = corr_num / corr_den\n",
    "    return 1 - corr.mean()\n",
    "\n",
    "def contrastive_loss(pred, target, tau=0.03):\n",
    "    target = target.reshape(target.shape[0], -1)\n",
    "    pred = pred.reshape(pred.shape[0], -1)   \n",
    "    pred = F.normalize(pred, dim=1)   # (batch, 1)\n",
    "    target = F.normalize(target, dim=1)\n",
    "    sim_matrix = torch.mm(pred, target.T)   # (batch, batch)\n",
    "    sim_matrix = sim_matrix / tau\n",
    "    loss = -torch.log(torch.exp(torch.diag(sim_matrix)) / sim_matrix.exp().sum(dim=1))\n",
    "    return loss.mean()\n",
    "\n",
    "# def contrastive_loss_batch(pred, target, tau=0.05):\n",
    "#     pred = F.normalize(pred.reshape(pred.shape[0], -1), dim=1)\n",
    "#     target = F.normalize(target.reshape(target.shape[0], -1), dim=1)\n",
    "#     sim_matrix = torch.mm(pred, target.T)  # (batch, batch)\n",
    "#     logits = sim_matrix / tau\n",
    "#     labels = torch.arange(pred.size(0)).to(pred.device)\n",
    "#     loss = F.cross_entropy(logits, labels)\n",
    "#     return loss\n",
    "\n",
    "\n",
    "optimizer = optim.AdamW(list(model.parameters()) + list(tau_module.parameters()), lr=1e-4, betas=(0.9, 0.99), weight_decay=1e-3)   # 1e-4\n",
    "scheduler = optim.lr_scheduler.ReduceLROnPlateau(optimizer, mode='min', patience=5)\n",
    "\n",
    "# Training loop\n",
    "num_epochs = 35\n",
    "best_val_loss = float('inf')\n",
    "\n",
    "for epoch in range(num_epochs):\n",
    "    model.train()\n",
    "    train_loss = 0\n",
    "    for x, y in tqdm(train_loader, desc=f\"Epoch {epoch+1}/{num_epochs}\"):\n",
    "        optimizer.zero_grad()\n",
    "        x, y = x.to(device), y.to(device)\n",
    "        y_pred, _ = model(x)\n",
    "        loss = mse_perc * mse_loss(y_pred, y) + cl_perc * contrastive_loss(y_pred, y, tau=tau_module())\n",
    "        loss.backward()\n",
    "        optimizer.step()\n",
    "        train_loss += loss.item() * x.size(0)\n",
    "\n",
    "    train_loss /= len(train_loader.dataset)\n",
    "\n",
    "    model.eval()\n",
    "    val_loss = 0\n",
    "    with torch.no_grad():\n",
    "        for x, y in val_loader:\n",
    "            x, y = x.to(device), y.to(device)\n",
    "            y_pred, _ = model(x)\n",
    "            loss = mse_perc * mse_loss(y_pred, y) + cl_perc * contrastive_loss(y_pred, y, tau=tau_module())\n",
    "            val_loss += loss.item() * x.size(0)\n",
    "    val_loss /= len(val_loader.dataset)\n",
    "    scheduler.step(val_loss)\n",
    "\n",
    "    print(f\"Epoch {epoch+1}, Train Loss: {train_loss:.4f}, Val Loss: {val_loss:.4f}\")\n",
    "\n",
    "    # Salva il modello migliore\n",
    "    if val_loss < best_val_loss:\n",
    "        best_val_loss = val_loss\n",
    "        torch.save(model.state_dict(), \"/home/matteoc/ecog-speech/best_model_CL2.pt\")\n"
   ]
  },
  {
   "cell_type": "code",
   "execution_count": 24,
   "id": "0257563e",
   "metadata": {},
   "outputs": [
    {
     "name": "stderr",
     "output_type": "stream",
     "text": [
      "/tmp/ipykernel_1986231/3312210815.py:2: FutureWarning: You are using `torch.load` with `weights_only=False` (the current default value), which uses the default pickle module implicitly. It is possible to construct malicious pickle data which will execute arbitrary code during unpickling (See https://github.com/pytorch/pytorch/blob/main/SECURITY.md#untrusted-models for more details). In a future release, the default value for `weights_only` will be flipped to `True`. This limits the functions that could be executed during unpickling. Arbitrary objects will no longer be allowed to be loaded via this mode unless they are explicitly allowlisted by the user via `torch.serialization.add_safe_globals`. We recommend you start setting `weights_only=True` for any use case where you don't have full control of the loaded file. Please open an issue on GitHub for any issues related to this experimental feature.\n",
      "  model.load_state_dict(torch.load(\"/home/matteoc/ecog-speech/best_model_CL2.pt\"))\n"
     ]
    },
    {
     "name": "stdout",
     "output_type": "stream",
     "text": [
      "Test Loss: 3.5548\n"
     ]
    }
   ],
   "source": [
    "# Valutazione finale su test set\n",
    "model.load_state_dict(torch.load(\"/home/matteoc/ecog-speech/best_model_CL2.pt\"))\n",
    "model.eval()\n",
    "test_loss = 0\n",
    "y_pred_all = []\n",
    "y_true_all = []\n",
    "attn_pred_all = []\n",
    "with torch.no_grad():\n",
    "    for x, y in test_loader:\n",
    "        x, y = x.to(device), y.to(device)\n",
    "        y_pred, attn_pred = model(x)\n",
    "        attn_pred_all.append(attn_pred.cpu())\n",
    "        y_pred_all.append(y_pred)\n",
    "        y_true_all.append(y.cpu())\n",
    "        test_loss += (mse_perc * mse_loss(y_pred, y) + cl_perc * contrastive_loss(y_pred, y, tau=tau_module())) * x.size(0)\n",
    "y_pred_all = torch.cat(y_pred_all, dim=0)\n",
    "y_true_all = torch.cat(y_true_all, dim=0)\n",
    "attn_pred_all = torch.cat(attn_pred_all, dim=0)\n",
    "test_loss /= len(test_loader.dataset)\n",
    "print(f\"Test Loss: {test_loss:.4f}\")"
   ]
  },
  {
   "cell_type": "code",
   "execution_count": 25,
   "id": "ec64ec0b",
   "metadata": {},
   "outputs": [
    {
     "data": {
      "text/plain": [
       "<Axes: >"
      ]
     },
     "execution_count": 25,
     "metadata": {},
     "output_type": "execute_result"
    },
    {
     "data": {
      "image/png": "[encoded data removed]",
      "text/plain": [
       "<Figure size 640x480 with 2 Axes>"
      ]
     },
     "metadata": {},
     "output_type": "display_data"
    }
   ],
   "source": [
    "import seaborn as sns\n",
    "\n",
    "sns.heatmap(attn_pred_all.mean(dim=0).T.cpu().numpy(), cbar=True)"
   ]
  },
  {
   "cell_type": "markdown",
   "id": "402e0f49",
   "metadata": {},
   "source": [
    "## Cross Valid"
   ]
  },
  {
   "cell_type": "code",
   "execution_count": null,
   "id": "1d976493",
   "metadata": {},
   "outputs": [],
   "source": [
    "from sklearn.model_selection import KFold\n",
    "from sklearn.preprocessing import StandardScaler\n",
    "import torch\n",
    "from torch.utils.data import TensorDataset, DataLoader\n",
    "from torch import nn, optim\n",
    "import torch.nn.functional as F\n",
    "from tqdm import tqdm\n",
    "import numpy as np\n",
    "from models import AttentiveStim2BrainNet, LearnableTau, SoftMappingGRUSeq\n",
    "\n",
    "outer_cv = KFold(n_splits=4, shuffle=False)\n",
    "all_corrs, all_attn = [], []\n",
    "\n",
    "brain_np = brain_data.reshape(brain_data.shape[0], -1)\n",
    "# audio_np = audio_data.cpu().numpy()\n",
    "\n",
    "for fold_idx, (train_idx, test_idx) in tqdm(enumerate(outer_cv.split(brain_data))):\n",
    "    print(f\"\\n--- Fold {fold_idx + 1} ---\")\n",
    "\n",
    "    scaler = StandardScaler()\n",
    "    brain_train = scaler.fit_transform(brain_np[train_idx])\n",
    "    brain_test = scaler.transform(brain_np[test_idx])\n",
    "\n",
    "    brain_train = torch.tensor(brain_train, dtype=torch.float32).reshape(-1, brain_channels, brain_timep)\n",
    "    brain_test = torch.tensor(brain_test, dtype=torch.float32).reshape(-1, brain_channels, brain_timep)\n",
    "\n",
    "    stimuli_train = text_decoder_embd[train_idx]\n",
    "    stimuli_test = text_decoder_embd[test_idx]\n",
    "\n",
    "    train_dataset = TensorDataset(stimuli_train.to(device), brain_train.to(device))\n",
    "    test_dataset = TensorDataset(stimuli_test.to(device), brain_test.to(device))\n",
    "\n",
    "    train_loader = DataLoader(train_dataset, batch_size=16, shuffle=False)\n",
    "    test_loader = DataLoader(test_dataset, batch_size=16, shuffle=False)\n",
    "\n",
    "    set_seed(42)\n",
    "    model = AttentiveStim2BrainNet(           \n",
    "        input_dim=text_feature, d_model=256, nhead=2, num_layers=2,\n",
    "        time_in=audio_timep, time_out=brain_timep,\n",
    "        output_channels=brain_channels\n",
    "    ).to(device)\n",
    "    # model = SoftMappingGRUSeq(input_dim=512, hidden_dim=128, time_out=brain_timep, output_channels=brain_channels).to(device)   # 128 o 64\n",
    "    tau_module = LearnableTau(init_tau=0.03).to(device)\n",
    "    mse_loss = nn.MSELoss()\n",
    "    mse_perc = 0.0\n",
    "    cl_perc = 1.0\n",
    "\n",
    "    def contrastive_loss(pred, target, tau=0.05):\n",
    "        target = target.reshape(target.shape[0], -1)\n",
    "        pred = pred.reshape(pred.shape[0], -1)\n",
    "        pred = F.normalize(pred, dim=1)\n",
    "        target = F.normalize(target, dim=1)\n",
    "        sim_matrix = torch.mm(pred, target.T) / tau\n",
    "        loss = -torch.log(torch.exp(torch.diag(sim_matrix)) / sim_matrix.exp().sum(dim=1))\n",
    "        return loss.mean()\n",
    "\n",
    "    optimizer = optim.AdamW(list(model.parameters()) + list(tau_module.parameters()), lr=1e-4, betas=(0.9, 0.99), weight_decay=1e-3)   # 1e-4\n",
    "    scheduler = optim.lr_scheduler.ReduceLROnPlateau(optimizer, mode='min', patience=5)\n",
    "\n",
    "    best_loss = float('inf')\n",
    "    for epoch in range(30):\n",
    "        model.train()\n",
    "        total_loss = 0\n",
    "        for x, y in train_loader:\n",
    "            optimizer.zero_grad()\n",
    "            x, y  = x.to(device), y.to(device)\n",
    "            y_pred, _ = model(x)\n",
    "            loss = mse_perc * mse_loss(y_pred, y) + cl_perc * contrastive_loss(y_pred, y, tau=tau_module())\n",
    "            loss.backward()\n",
    "            optimizer.step()\n",
    "            total_loss += loss.item() * x.size(0)\n",
    "        total_loss /= len(train_loader.dataset)\n",
    "\n",
    "        model.eval()\n",
    "        val_loss = 0\n",
    "        with torch.no_grad():\n",
    "            for x, y in test_loader:\n",
    "                x, y = x.to(device), y.to(device)\n",
    "                y_pred, _ = model(x)\n",
    "                loss = mse_perc * mse_loss(y_pred, y) + cl_perc * contrastive_loss(y_pred, y, tau=tau_module())\n",
    "                val_loss += loss.item() * x.size(0)\n",
    "        val_loss /= len(test_loader.dataset)\n",
    "        scheduler.step(val_loss)\n",
    "\n",
    "        print(f\"Epoch {epoch+1} - Train Loss: {total_loss:.4f} | Test Loss: {val_loss:.4f}\")\n",
    "\n",
    "        if val_loss < best_loss:\n",
    "            best_loss = val_loss\n",
    "            torch.save(model.state_dict(), f\"/home/matteoc/ecog-speech/best_model_fold{fold_idx+1}.pt\")\n",
    "\n",
    "    # Valutazione finale (ad es. Pearson corr)\n",
    "    model.load_state_dict(torch.load(f\"/home/matteoc/ecog-speech/best_model_fold{fold_idx+1}.pt\"))\n",
    "    model.eval()\n",
    "    preds, targets, attn_values = [], [], []\n",
    "    with torch.no_grad():\n",
    "        for x, y in test_loader:\n",
    "            y, x = y.to(device), x.to(device)\n",
    "            y_pred, attn_pred = model(x)\n",
    "            preds.append(y_pred.cpu().numpy())\n",
    "            targets.append(y.cpu().numpy())\n",
    "            attn_values.append(attn_pred.cpu().numpy())\n",
    "    preds = np.concatenate(preds, axis=0)\n",
    "    targets = np.concatenate(targets, axis=0)\n",
    "    attn_values = np.concatenate(attn_values, axis=0)\n",
    "\n",
    "    # corrs = np.array([np.corrcoef(p, t)[0, 1] for p, t in zip(preds.T, targets.T)]).reshape(brain_channels, brain_timep)\n",
    "    corrs = np.zeros((brain_channels, brain_timep))\n",
    "    for ch in range(brain_channels):\n",
    "        for t in range(brain_timep):\n",
    "            corrs[ch, t] = np.corrcoef(preds[:, ch, t], targets[:, ch, t])[0, 1]\n",
    "    all_corrs.append(corrs)\n",
    "    all_attn.append(attn_values)\n",
    "\n",
    "# Risultati finali\n",
    "all_corrs = np.stack(all_corrs)\n",
    "all_attn = np.concatenate(all_attn, axis=0)\n",
    "print(f\"\\nFinal mean correlation across folds: {all_corrs.mean():.4f}\")\n"
   ]
  },
  {
   "cell_type": "code",
   "execution_count": null,
   "id": "bc694556",
   "metadata": {},
   "outputs": [],
   "source": [
    "import seaborn as sns\n",
    "\n",
    "print(all_attn.shape)\n",
    "print(all_corrs.shape)\n",
    "\n",
    "sns.heatmap(all_attn.mean(axis=0).T, cbar=True)"
   ]
  },
  {
   "cell_type": "code",
   "execution_count": null,
   "id": "dfacd81d",
   "metadata": {},
   "outputs": [],
   "source": [
    "from matplotlib import pyplot as plt\n",
    "\n",
    "lags = np.linspace(-pre_stimulus, tmax, brain_timep) \n",
    "mean = all_corrs.mean((0, 1))\n",
    "# std = correlations_time.std((0)) \n",
    "std = all_corrs.std((0, 1)) / np.sqrt(np.product(all_corrs.shape[:2]))\n",
    "\n",
    "fig, ax = plt.subplots()\n",
    "ax.plot(lags, mean, color='black')\n",
    "ax.fill_between(lags, mean - std, mean + std, alpha=0.2, color='black')\n",
    "ax.set_xlabel(\"lag (s)\")\n",
    "ax.set_ylabel(\"encoding performance (r)\")\n",
    "ax.axvline(0, c=(.9, .9, .9), ls=\"--\")\n",
    "# ax.axhline(0, c=(.9, .9, .9), ls=\"--\")\n",
    "fig.show()"
   ]
  },
  {
   "cell_type": "code",
   "execution_count": null,
   "id": "b81d66f6",
   "metadata": {},
   "outputs": [],
   "source": [
    "from nilearn.plotting import plot_markers\n",
    "\n",
    "raw = mne.io.read_raw_fif(file_path, verbose=False)\n",
    "raw.load_data(verbose=False)\n",
    "raw = raw.apply_function(func, channel_wise=False, verbose=False)\n",
    "\n",
    "ch2loc = {ch['ch_name']: ch['loc'][:3] for ch in raw.info['chs']}\n",
    "coords = np.vstack([ch2loc[ch] for ch in raw.info['ch_names']])\n",
    "coords *= 1000  # nilearn likes to plot in meters, not mm\n",
    "print(\"Coordinate matrix shape: \", coords.shape)\n",
    "\n",
    "order = all_corrs.mean((0,2)).argsort()\n",
    "plot_markers(all_corrs.mean((0,2))[order], coords[order],\n",
    "             node_size=30, display_mode='lzr',\n",
    "             node_vmin=0, node_cmap='inferno_r', colorbar=True)\n",
    "plt.show()"
   ]
  },
  {
   "cell_type": "markdown",
   "id": "c2534d8f",
   "metadata": {},
   "source": [
    "## Evaluation"
   ]
  },
  {
   "cell_type": "code",
   "execution_count": 26,
   "id": "03b2dcf7",
   "metadata": {},
   "outputs": [
    {
     "name": "stderr",
     "output_type": "stream",
     "text": [
      "100%|██████████| 2052/2052 [00:31<00:00, 65.03it/s]\n"
     ]
    }
   ],
   "source": [
    "from torchmetrics.functional import pearson_corrcoef\n",
    "\n",
    "correlations_time = np.zeros((y_pred_all.shape[0], y_pred_all.shape[2]))\n",
    "for sample in tqdm(range(y_pred_all.shape[0])):\n",
    "    y_pred_sample = y_pred_all[sample, :, :]\n",
    "    y_true_sample = y_true_all[sample, :, :]\n",
    "    for tp in range(y_pred_all.shape[2]):\n",
    "        pred = y_pred_sample[:, tp]\n",
    "        target = y_true_sample[:, tp]\n",
    "        corr = pearson_corrcoef(pred.cpu(), target)\n",
    "        correlations_time[sample, tp] = corr.item()"
   ]
  },
  {
   "cell_type": "code",
   "execution_count": 27,
   "id": "a2940d35",
   "metadata": {},
   "outputs": [
    {
     "data": {
      "image/png": "[encoded data removed]",
      "text/plain": [
       "<Figure size 640x480 with 1 Axes>"
      ]
     },
     "metadata": {},
     "output_type": "display_data"
    }
   ],
   "source": [
    "from matplotlib import pyplot as plt\n",
    "\n",
    "n_array = 100\n",
    "\n",
    "lags = np.linspace(-pre_stimulus, tmax, brain_timep) \n",
    "# value_array = y_pred_all[:,n_array,:].mean((0))\n",
    "mean = correlations_time.mean((0))\n",
    "std = correlations_time.std((0)) / np.sqrt(np.product(correlations_time.shape[:1]))\n",
    "\n",
    "fig, ax = plt.subplots()\n",
    "ax.plot(lags, mean, color='black')\n",
    "ax.fill_between(lags, mean - std, mean + std, alpha=0.2, color='black')\n",
    "ax.set_xlabel(\"lag (s)\")\n",
    "ax.set_ylabel(\"encoding performance (r)\")\n",
    "ax.axvline(0, c=(.9, .9, .9), ls=\"--\")\n",
    "# ax.axhline(0, c=(.9, .9, .9), ls=\"--\")\n",
    "fig.show()"
   ]
  },
  {
   "cell_type": "code",
   "execution_count": 28,
   "id": "b8a29777",
   "metadata": {},
   "outputs": [
    {
     "name": "stderr",
     "output_type": "stream",
     "text": [
      "100%|██████████| 2052/2052 [00:18<00:00, 111.94it/s]\n"
     ]
    }
   ],
   "source": [
    "from torchmetrics.functional import pearson_corrcoef\n",
    "\n",
    "correlations_channels = np.zeros((y_pred_all.shape[0], y_pred_all.shape[1]))\n",
    "for sample in tqdm(range(y_pred_all.shape[0])):\n",
    "    y_pred_sample = y_pred_all[sample, :, :]\n",
    "    y_true_sample = y_true_all[sample, :, :]\n",
    "    for channel in range(y_pred_all.shape[1]):\n",
    "        pred = y_pred_sample[channel, :]\n",
    "        target = y_true_sample[channel, :]\n",
    "        corr = pearson_corrcoef(pred.cpu(), target)\n",
    "        correlations_channels[sample, channel] = corr.item()"
   ]
  },
  {
   "cell_type": "code",
   "execution_count": 29,
   "id": "4b1b9a5c",
   "metadata": {},
   "outputs": [],
   "source": [
    "correlations_channels_mean = np.nanmean(correlations_channels, axis=0)"
   ]
  },
  {
   "cell_type": "code",
   "execution_count": 30,
   "id": "829f9839",
   "metadata": {},
   "outputs": [
    {
     "name": "stdout",
     "output_type": "stream",
     "text": [
      "Coordinate matrix shape:  (90, 3)\n"
     ]
    },
    {
     "data": {
      "image/png": "[encoded data removed]",
      "text/plain": [
       "<Figure size 660x350 with 5 Axes>"
      ]
     },
     "metadata": {},
     "output_type": "display_data"
    }
   ],
   "source": [
    "from nilearn.plotting import plot_markers\n",
    "\n",
    "raw = mne.io.read_raw_fif(file_path, verbose=False)\n",
    "raw.load_data(verbose=False)\n",
    "raw = raw.apply_function(func, channel_wise=False, verbose=False)\n",
    "\n",
    "ch2loc = {ch['ch_name']: ch['loc'][:3] for ch in raw.info['chs']}\n",
    "coords = np.vstack([ch2loc[ch] for ch in raw.info['ch_names']])\n",
    "coords *= 1000  # nilearn likes to plot in meters, not mm\n",
    "print(\"Coordinate matrix shape: \", coords.shape)\n",
    "\n",
    "order = correlations_channels_mean.argsort()\n",
    "plot_markers(correlations_channels_mean[order], coords[order],\n",
    "             node_size=30, display_mode='lzr',\n",
    "             node_vmin=0, node_cmap='inferno_r', colorbar=True)\n",
    "plt.show()"
   ]
  },
  {
   "cell_type": "markdown",
   "id": "134789c2",
   "metadata": {},
   "source": [
    "## Permutations"
   ]
  },
  {
   "cell_type": "code",
   "execution_count": 31,
   "id": "c7d35739",
   "metadata": {},
   "outputs": [
    {
     "name": "stderr",
     "output_type": "stream",
     "text": [
      "Permutation runs:   0%|          | 0/500 [00:00<?, ?it/s]/tmp/ipykernel_1986231/567332162.py:21: UserWarning: To copy construct from a tensor, it is recommended to use sourceTensor.clone().detach() or sourceTensor.clone().detach().requires_grad_(True), rather than torch.tensor(sourceTensor).\n",
      "  pred_tp = torch.tensor(y_pred_all[:, :, tp])  # (samples, voxels)\n",
      "/tmp/ipykernel_1986231/567332162.py:22: UserWarning: To copy construct from a tensor, it is recommended to use sourceTensor.clone().detach() or sourceTensor.clone().detach().requires_grad_(True), rather than torch.tensor(sourceTensor).\n",
      "  true_tp = torch.tensor(y_true_perm[:, :, tp]).to(device)\n",
      "/tmp/ipykernel_1986231/567332162.py:27: UserWarning: To copy construct from a tensor, it is recommended to use sourceTensor.clone().detach() or sourceTensor.clone().detach().requires_grad_(True), rather than torch.tensor(sourceTensor).\n",
      "  pred_ch = torch.tensor(y_pred_all[:, ch, :])\n",
      "/tmp/ipykernel_1986231/567332162.py:28: UserWarning: To copy construct from a tensor, it is recommended to use sourceTensor.clone().detach() or sourceTensor.clone().detach().requires_grad_(True), rather than torch.tensor(sourceTensor).\n",
      "  true_ch = torch.tensor(y_true_perm[:, ch, :]).to(device)\n",
      "Permutation runs: 100%|██████████| 500/500 [00:55<00:00,  9.02it/s]\n"
     ]
    }
   ],
   "source": [
    "def batch_pearson_corr(x, y):\n",
    "    \"\"\" x, y: tensors of shape (n_samples, n_features) \"\"\"\n",
    "    x_centered = x - x.mean(dim=1, keepdim=True)\n",
    "    y_centered = y - y.mean(dim=1, keepdim=True)\n",
    "    numerator = (x_centered * y_centered).sum(dim=1)\n",
    "    denominator = torch.sqrt((x_centered**2).sum(dim=1) * (y_centered**2).sum(dim=1))\n",
    "    return numerator / (denominator + 1e-8)  # aggiunta eps per stabilità numerica\n",
    "\n",
    "\n",
    "n_permutations = 500\n",
    "n_samples, n_channels, n_timepoints = y_pred_all.shape\n",
    "device = 6\n",
    "null_distribution_tp = np.zeros((n_permutations, n_timepoints))\n",
    "null_distribution_ch = np.zeros((n_permutations, n_channels))\n",
    "\n",
    "for perm in tqdm(range(n_permutations), desc=\"Permutation runs\"):\n",
    "    shuffled_idx = np.random.permutation(n_samples)\n",
    "    y_true_perm = y_true_all[shuffled_idx]\n",
    "\n",
    "    for tp in range(n_timepoints):\n",
    "        pred_tp = torch.tensor(y_pred_all[:, :, tp])  # (samples, voxels)\n",
    "        true_tp = torch.tensor(y_true_perm[:, :, tp]).to(device)  \n",
    "        corrs = batch_pearson_corr(pred_tp, true_tp)  # (samples,)\n",
    "        null_distribution_tp[perm, tp] = corrs.mean().item()\n",
    "\n",
    "    for ch in range(n_channels):\n",
    "        pred_ch = torch.tensor(y_pred_all[:, ch, :])  \n",
    "        true_ch = torch.tensor(y_true_perm[:, ch, :]).to(device)  \n",
    "        corrs_ch = batch_pearson_corr(pred_ch, true_ch)  \n",
    "        null_distribution_ch[perm, ch] = corrs_ch.mean().item()"
   ]
  },
  {
   "cell_type": "code",
   "execution_count": 32,
   "id": "ae5604de",
   "metadata": {},
   "outputs": [],
   "source": [
    "real_corr_tp = correlations_time.mean(axis=0)\n",
    "real_corr_ch = correlations_channels.mean(axis=0)\n",
    "p_values_tp = np.mean(null_distribution_tp >= real_corr_tp[None, :], axis=0)  \n",
    "p_values_ch = np.mean(null_distribution_ch >= real_corr_ch[None, :], axis=0)  "
   ]
  },
  {
   "cell_type": "code",
   "execution_count": 33,
   "id": "7aa68094",
   "metadata": {},
   "outputs": [],
   "source": [
    "from statsmodels.stats.multitest import fdrcorrection\n",
    "\n",
    "significant_tp, pvals_corrected_tp = fdrcorrection(p_values_tp, alpha=0.01)\n",
    "significant_ch, pvals_corrected_ch = fdrcorrection(p_values_ch, alpha=0.01)"
   ]
  },
  {
   "cell_type": "code",
   "execution_count": 34,
   "id": "e482d4f2",
   "metadata": {},
   "outputs": [
    {
     "data": {
      "image/png": "[encoded data removed]",
      "text/plain": [
       "<Figure size 1000x500 with 1 Axes>"
      ]
     },
     "metadata": {},
     "output_type": "display_data"
    }
   ],
   "source": [
    "import matplotlib.pyplot as plt\n",
    "\n",
    "lags = np.linspace(-pre_stimulus, tmax, correlations_time.shape[1])  # Assicurati sia coerente\n",
    "\n",
    "fig, ax = plt.subplots(figsize=(10, 5))\n",
    "ax.plot(lags, real_corr_tp, color='black', label='Real correlation')\n",
    "ax.axvline(0, color='gray', linestyle='--')\n",
    "y_top = real_corr_tp.max() + 0.0001\n",
    "# Aggiungi asterischi nei timepoint significativi\n",
    "for t, sig in enumerate(significant_tp):\n",
    "    if sig:\n",
    "        ax.text(lags[t], y_top, '*', color='red', fontsize=10,\n",
    "                ha='center', va='bottom')\n",
    "\n",
    "ax.set_xlabel('Lag (s)')\n",
    "ax.set_ylabel('Encoding performance (r)')\n",
    "ax.set_title('Significant timepoints (FDR corrected)')\n",
    "ax.legend()\n",
    "plt.tight_layout()\n",
    "plt.show()\n"
   ]
  },
  {
   "cell_type": "code",
   "execution_count": 36,
   "id": "9a8fe724",
   "metadata": {},
   "outputs": [
    {
     "data": {
      "text/plain": [
       "(2052, 90)"
      ]
     },
     "execution_count": 36,
     "metadata": {},
     "output_type": "execute_result"
    }
   ],
   "source": [
    "correlations_channels.shape"
   ]
  },
  {
   "cell_type": "code",
   "execution_count": 290,
   "id": "f5505792",
   "metadata": {},
   "outputs": [],
   "source": [
    "import os\n",
    "\n",
    "tosave_stats = f\"/srv/nfs-data/sisko/matteoc/podcast/subj_data/sub_{subject}_text\"\n",
    "os.makedirs(tosave_stats, exist_ok=True)\n",
    "np.save(os.path.join(tosave_stats, \"significant_tp.npy\"), significant_tp)\n",
    "np.save(os.path.join(tosave_stats, \"significant_ch.npy\"), significant_ch)"
   ]
  },
  {
   "cell_type": "markdown",
   "id": "70934f38",
   "metadata": {},
   "source": [
    "## Evaluation pt2"
   ]
  },
  {
   "cell_type": "markdown",
   "id": "4c4227f0",
   "metadata": {},
   "source": []
  }
 ],
 "metadata": {
  "kernelspec": {
   "display_name": "huggin",
   "language": "python",
   "name": "python3"
  },
  "language_info": {
   "codemirror_mode": {
    "name": "ipython",
    "version": 3
   },
   "file_extension": ".py",
   "mimetype": "text/x-python",
   "name": "python",
   "nbconvert_exporter": "python",
   "pygments_lexer": "ipython3",
   "version": "3.11.10"
  }
 },
 "nbformat": 4,
 "nbformat_minor": 5
}
