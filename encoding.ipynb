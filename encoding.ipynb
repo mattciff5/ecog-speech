{
 "cells": [
  {
   "cell_type": "code",
   "execution_count": 1,
   "id": "501ca2cc",
   "metadata": {},
   "outputs": [
    {
     "name": "stderr",
     "output_type": "stream",
     "text": [
      "/home/matteoc/miniconda3/envs/speech-meg/lib/python3.9/site-packages/tqdm/auto.py:21: TqdmWarning: IProgress not found. Please update jupyter and ipywidgets. See https://ipywidgets.readthedocs.io/en/stable/user_install.html\n",
      "  from .autonotebook import tqdm as notebook_tqdm\n"
     ]
    }
   ],
   "source": [
    "import mne\n",
    "import numpy as np\n",
    "import pandas as pd\n",
    "import matplotlib.pyplot as plt\n",
    "import tqdm\n",
    "\n",
    "from scipy import signal\n",
    "from scipy.io import wavfile\n",
    "from scipy.stats import pearsonr, zscore\n",
    "from mne_bids import BIDSPath\n",
    "from functools import partial\n",
    "from nilearn.plotting import plot_markers\n",
    "\n",
    "import torch\n",
    "from torch import nn\n",
    "import torchaudio\n",
    "from transformers import WhisperProcessor, WhisperModel, AutoFeatureExtractor, AutoProcessor"
   ]
  },
  {
   "cell_type": "code",
   "execution_count": 2,
   "id": "fadb221d",
   "metadata": {},
   "outputs": [
    {
     "name": "stderr",
     "output_type": "stream",
     "text": [
      "/home/matteoc/miniconda3/envs/speech-meg/lib/python3.9/site-packages/huggingface_hub/file_download.py:797: FutureWarning: `resume_download` is deprecated and will be removed in version 1.0.0. Downloads always resume when possible. If you want to force a new download, use `force_download=True`.\n",
      "  warnings.warn(\n"
     ]
    },
    {
     "data": {
      "text/plain": [
       "WhisperModel(\n",
       "  (encoder): WhisperEncoder(\n",
       "    (conv1): Conv1d(80, 512, kernel_size=(3,), stride=(1,), padding=(1,))\n",
       "    (conv2): Conv1d(512, 512, kernel_size=(3,), stride=(2,), padding=(1,))\n",
       "    (embed_positions): Embedding(1500, 512)\n",
       "    (layers): ModuleList(\n",
       "      (0-5): 6 x WhisperEncoderLayer(\n",
       "        (self_attn): WhisperAttention(\n",
       "          (k_proj): Linear(in_features=512, out_features=512, bias=False)\n",
       "          (v_proj): Linear(in_features=512, out_features=512, bias=True)\n",
       "          (q_proj): Linear(in_features=512, out_features=512, bias=True)\n",
       "          (out_proj): Linear(in_features=512, out_features=512, bias=True)\n",
       "        )\n",
       "        (self_attn_layer_norm): LayerNorm((512,), eps=1e-05, elementwise_affine=True)\n",
       "        (activation_fn): GELUActivation()\n",
       "        (fc1): Linear(in_features=512, out_features=2048, bias=True)\n",
       "        (fc2): Linear(in_features=2048, out_features=512, bias=True)\n",
       "        (final_layer_norm): LayerNorm((512,), eps=1e-05, elementwise_affine=True)\n",
       "      )\n",
       "    )\n",
       "    (layer_norm): LayerNorm((512,), eps=1e-05, elementwise_affine=True)\n",
       "  )\n",
       "  (decoder): WhisperDecoder(\n",
       "    (embed_tokens): Embedding(51865, 512, padding_idx=50257)\n",
       "    (embed_positions): WhisperPositionalEmbedding(448, 512)\n",
       "    (layers): ModuleList(\n",
       "      (0-5): 6 x WhisperDecoderLayer(\n",
       "        (self_attn): WhisperAttention(\n",
       "          (k_proj): Linear(in_features=512, out_features=512, bias=False)\n",
       "          (v_proj): Linear(in_features=512, out_features=512, bias=True)\n",
       "          (q_proj): Linear(in_features=512, out_features=512, bias=True)\n",
       "          (out_proj): Linear(in_features=512, out_features=512, bias=True)\n",
       "        )\n",
       "        (activation_fn): GELUActivation()\n",
       "        (self_attn_layer_norm): LayerNorm((512,), eps=1e-05, elementwise_affine=True)\n",
       "        (encoder_attn): WhisperAttention(\n",
       "          (k_proj): Linear(in_features=512, out_features=512, bias=False)\n",
       "          (v_proj): Linear(in_features=512, out_features=512, bias=True)\n",
       "          (q_proj): Linear(in_features=512, out_features=512, bias=True)\n",
       "          (out_proj): Linear(in_features=512, out_features=512, bias=True)\n",
       "        )\n",
       "        (encoder_attn_layer_norm): LayerNorm((512,), eps=1e-05, elementwise_affine=True)\n",
       "        (fc1): Linear(in_features=512, out_features=2048, bias=True)\n",
       "        (fc2): Linear(in_features=2048, out_features=512, bias=True)\n",
       "        (final_layer_norm): LayerNorm((512,), eps=1e-05, elementwise_affine=True)\n",
       "      )\n",
       "    )\n",
       "    (layer_norm): LayerNorm((512,), eps=1e-05, elementwise_affine=True)\n",
       "  )\n",
       ")"
      ]
     },
     "execution_count": 2,
     "metadata": {},
     "output_type": "execute_result"
    }
   ],
   "source": [
    "device = torch.device(\"cuda:6\" if torch.cuda.is_available() else \"cpu\")\n",
    "\n",
    "model = WhisperModel.from_pretrained(\"openai/whisper-base\")\n",
    "feature_extractor = AutoFeatureExtractor.from_pretrained(\"openai/whisper-base\")\n",
    "processor = AutoProcessor.from_pretrained(\"openai/whisper-base\")\n",
    "model.eval()"
   ]
  },
  {
   "cell_type": "code",
   "execution_count": 3,
   "id": "8581d61c",
   "metadata": {},
   "outputs": [],
   "source": [
    "# PARAMS\n",
    "\n",
    "bids_root = \"/srv/nfs-data/sisko/storage/ECoG_podcast/ds005574-1.0.2\" \n",
    "subject = '03'\n",
    "func = partial(zscore, axis=1)\n",
    "ecog_sr = 512\n",
    "whisper_sr = 16000\n",
    "pre_stimulus = 1.0\n",
    "pre_audio = 0.2"
   ]
  },
  {
   "cell_type": "markdown",
   "id": "3ff3681c",
   "metadata": {},
   "source": [
    "## Get Data"
   ]
  },
  {
   "cell_type": "code",
   "execution_count": 4,
   "id": "1f55ad52",
   "metadata": {},
   "outputs": [],
   "source": [
    "def preprocess_raw_audio(audio_wave, fs):\n",
    "\n",
    "    if audio_wave.ndim > 1:\n",
    "        audio_wave = audio_wave.mean(axis=1)\n",
    "\n",
    "    audio_wave = audio_wave.astype(np.float32)\n",
    "    audio_wave_model = audio_wave / np.max(np.abs(audio_wave))\n",
    "\n",
    "    return audio_wave_model"
   ]
  },
  {
   "cell_type": "code",
   "execution_count": 5,
   "id": "b28e117d",
   "metadata": {},
   "outputs": [
    {
     "name": "stderr",
     "output_type": "stream",
     "text": [
      "/tmp/ipykernel_1818446/2770458045.py:3: WavFileWarning: Chunk (non-data) not understood, skipping it.\n",
      "  audio_sf, audio_wave = wavfile.read(audio_path)\n"
     ]
    }
   ],
   "source": [
    "audio_path = f\"{bids_root}/stimuli/podcast.wav\"\n",
    "\n",
    "audio_sf, audio_wave = wavfile.read(audio_path)\n",
    "audio_wave_clean = preprocess_raw_audio(audio_wave, audio_sf)"
   ]
  },
  {
   "cell_type": "code",
   "execution_count": 6,
   "id": "ff5cf5cf",
   "metadata": {},
   "outputs": [],
   "source": [
    "file_path = BIDSPath(root=bids_root+\"/derivatives/ecogprep\",\n",
    "                     subject=subject,\n",
    "                     task=\"podcast\",\n",
    "                     datatype=\"ieeg\",\n",
    "                     description=\"highgamma\",\n",
    "                     suffix=\"ieeg\",\n",
    "                     extension=\"fif\")"
   ]
  },
  {
   "cell_type": "code",
   "execution_count": 7,
   "id": "5c6e8129",
   "metadata": {},
   "outputs": [],
   "source": [
    "transcript_path = f\"{bids_root}/stimuli/podcast_transcript.csv\"\n",
    "\n",
    "df = pd.read_csv(transcript_path)\n",
    "df.dropna(subset=['start'], inplace=True)\n",
    "df.sort_values(\"start\", inplace=True)\n",
    "events = np.zeros((len(df), 3))\n",
    "events[:, 0] = df.start"
   ]
  },
  {
   "cell_type": "code",
   "execution_count": 11,
   "id": "27678f3b",
   "metadata": {},
   "outputs": [],
   "source": [
    "def get_stimuli_and_brain(file_path, audio_wave_clean, audio_sf, df, events, \n",
    "                          tmax=2.0, pre_audio=0.5, pre_stimulus=0.2,\n",
    "                          model=None, processor=None, whisper_sr=16000,\n",
    "                          device=device):\n",
    "    \n",
    "    model = model.to(device)\n",
    "\n",
    "    raw = mne.io.read_raw_fif(file_path, verbose=False)\n",
    "    raw.load_data(verbose=False)\n",
    "    raw = raw.apply_function(func, channel_wise=False, verbose=False)\n",
    "\n",
    "    epochs = mne.Epochs(\n",
    "        raw,\n",
    "        (events * raw.info['sfreq']).astype(int),\n",
    "        tmin=-pre_stimulus,\n",
    "        tmax=tmax,\n",
    "        baseline=None,\n",
    "        proj=None,\n",
    "        event_id=None,\n",
    "        preload=True,\n",
    "        event_repeated=\"merge\",\n",
    "        verbose=False\n",
    "    )\n",
    "    good_idx = epochs.selection\n",
    "    print(f\"Epochs object has a shape of: {epochs._data.shape}\")\n",
    "    epochs = epochs.resample(sfreq=128, npad='auto', method='fft', window='hamming')\n",
    "    epochs_snippet = epochs._data\n",
    "    print(f\"Epochs object after down-sampling has a shape of: {epochs_snippet.shape}\")\n",
    "\n",
    "    audio_snip_whisper = []\n",
    "    for idx, row in tqdm.tqdm(enumerate(good_idx)):\n",
    "        row = df.iloc[idx]\n",
    "        start_sample = int((row['start']) * audio_sf) \n",
    "        end_sample = start_sample + int(tmax * audio_sf)\n",
    "        snippet = audio_wave_clean[start_sample - int(pre_audio * audio_sf):end_sample]\n",
    "        if len(snippet) < int(tmax * audio_sf):\n",
    "            padding_len = int(tmax * audio_sf) - len(snippet)\n",
    "            snippet = np.pad(snippet, (0, padding_len), mode='constant')\n",
    "        snippet = torchaudio.transforms.Resample(audio_sf, whisper_sr)(torch.tensor(snippet).float())\n",
    "        inputs = processor(snippet.squeeze(0), sampling_rate=whisper_sr, return_tensors=\"pt\")\n",
    "        input_features = inputs['input_features'].to(device)\n",
    "        with torch.no_grad():\n",
    "            outputs = model.encoder(input_features=input_features)\n",
    "            hidden_states = outputs.last_hidden_state[:,:int(2*50*(tmax+pre_audio))]\n",
    "            hidden_states = hidden_states[:,::2]   # sort of downsampling\n",
    "            audio_snip_whisper.append(hidden_states.squeeze(0).cpu())\n",
    "    audio_snip_whisper = torch.stack(audio_snip_whisper, dim=0)\n",
    "\n",
    "    return epochs_snippet, audio_snip_whisper"
   ]
  },
  {
   "cell_type": "code",
   "execution_count": 12,
   "id": "46e6d3b2",
   "metadata": {},
   "outputs": [
    {
     "name": "stdout",
     "output_type": "stream",
     "text": [
      "Epochs object has a shape of: (5130, 235, 1127)\n",
      "Epochs object after down-sampling has a shape of: (5130, 235, 282)\n"
     ]
    },
    {
     "name": "stderr",
     "output_type": "stream",
     "text": [
      "5130it [03:18, 25.87it/s]\n"
     ]
    }
   ],
   "source": [
    "brain_data, audio_data = get_stimuli_and_brain(file_path, audio_wave_clean, audio_sf, df, events, model=model, processor=processor)"
   ]
  },
  {
   "cell_type": "code",
   "execution_count": 87,
   "id": "18145cba",
   "metadata": {},
   "outputs": [
    {
     "data": {
      "text/plain": [
       "(tensor(-0.0236), tensor(1.3550), 0.004692080188540864, 0.9196353568698805)"
      ]
     },
     "execution_count": 87,
     "metadata": {},
     "output_type": "execute_result"
    }
   ],
   "source": [
    "audio_data.mean(), audio_data.std(), brain_data.mean(), brain_data.std()"
   ]
  },
  {
   "cell_type": "markdown",
   "id": "e8c7c926",
   "metadata": {},
   "source": [
    "## Model"
   ]
  },
  {
   "cell_type": "code",
   "execution_count": 197,
   "id": "25bcf10f",
   "metadata": {},
   "outputs": [],
   "source": [
    "import torch\n",
    "import torch.nn as nn\n",
    "import torch.nn.functional as F\n",
    "\n",
    "\n",
    "class PositionalEncoding(nn.Module):\n",
    "    def __init__(self, d_model, max_len=5000):\n",
    "        super().__init__()\n",
    "        pe = torch.zeros(max_len, d_model)\n",
    "        position = torch.arange(0, max_len).unsqueeze(1).float()\n",
    "        div_term = torch.exp(torch.arange(0, d_model, 2).float() * (-torch.log(torch.tensor(10000.0)) / d_model))\n",
    "        pe[:, 0::2] = torch.sin(position * div_term)\n",
    "        pe[:, 1::2] = torch.cos(position * div_term)\n",
    "        self.pe = pe.unsqueeze(0)\n",
    "\n",
    "    def forward(self, x):\n",
    "        return x + self.pe[:, :x.size(1)].to(x.device)\n",
    "\n",
    "class AttentiveStim2BrainNet(nn.Module):\n",
    "    def __init__(self, input_dim=512, output_channels=235, time_in=250, time_out=282, d_model=256, nhead=4, num_layers=4):\n",
    "        super().__init__()\n",
    "        self.input_proj = nn.Linear(input_dim, d_model)\n",
    "        self.pos_enc = PositionalEncoding(d_model, max_len=time_in)\n",
    "        encoder_layer = nn.TransformerEncoderLayer(d_model=d_model, nhead=nhead, batch_first=True)\n",
    "        # self.norm = nn.LayerNorm(d_model)\n",
    "        self.encoder = nn.TransformerEncoder(encoder_layer, num_layers=num_layers)\n",
    "\n",
    "        self.temporal_upsample = nn.Upsample(size=time_out, mode='linear', align_corners=True)\n",
    "\n",
    "        self.cross_attention = nn.MultiheadAttention(embed_dim=d_model, num_heads=nhead, batch_first=True)\n",
    "        self.output_proj = nn.Linear(d_model, output_channels)\n",
    "\n",
    "    def forward(self, x):  # x: (batch, time_in=250, input_dim=512)\n",
    "        x = self.input_proj(x)                          # (batch, 250, d_model)\n",
    "        x = self.pos_enc(x)                             # Add position\n",
    "        x = self.encoder(x)                             # Encode audio\n",
    "        x = self.temporal_upsample(x.permute(0, 2, 1)).permute(0, 2, 1)  # (batch, 282, d_model)\n",
    "        x_attn, _ = self.cross_attention(x, x, x)       # Self attention or cross-attention\n",
    "        # x = self.norm(x_attn)\n",
    "        x = self.output_proj(x_attn)                    # (batch, 282, output_channels)\n",
    "        return x.permute(0, 2, 1)                       # (batch, 235, 282)\n"
   ]
  },
  {
   "cell_type": "code",
   "execution_count": 93,
   "id": "fd1ee023",
   "metadata": {},
   "outputs": [],
   "source": [
    "import torch\n",
    "from torch.utils.data import TensorDataset, DataLoader, random_split\n",
    "from torch import nn, optim\n",
    "from tqdm import tqdm\n",
    "from sklearn.preprocessing import StandardScaler\n",
    "\n",
    "brain_np = brain_data.reshape(5130, -1) \n",
    "brain_scaler = StandardScaler()\n",
    "\n",
    "brain_std = torch.tensor(brain_np, dtype=torch.float32, device=device).reshape(5130, 235, 282)\n",
    "stimuli = audio_data.to(device)\n",
    "\n",
    "train_size = int(0.8 * len(stimuli))\n",
    "val_size = int(0.1 * len(stimuli))\n",
    "test_size = len(stimuli) - train_size - val_size\n",
    "\n",
    "dataset = TensorDataset(stimuli, brain_std)\n",
    "train_ds, val_ds, test_ds = random_split(dataset, [train_size, val_size, test_size], generator=torch.Generator().manual_seed(42))\n",
    "\n",
    "batch_size = 32\n",
    "train_loader = DataLoader(train_ds, batch_size=batch_size, shuffle=True)\n",
    "val_loader = DataLoader(val_ds, batch_size=batch_size, shuffle=False)\n",
    "test_loader = DataLoader(test_ds, batch_size=batch_size, shuffle=False)\n",
    "\n",
    "\n"
   ]
  },
  {
   "cell_type": "code",
   "execution_count": 245,
   "id": "fb4d42f6",
   "metadata": {},
   "outputs": [
    {
     "name": "stderr",
     "output_type": "stream",
     "text": [
      "Epoch 1/50:   0%|          | 0/129 [00:00<?, ?it/s]"
     ]
    },
    {
     "name": "stderr",
     "output_type": "stream",
     "text": [
      "Epoch 1/50: 100%|██████████| 129/129 [00:00<00:00, 164.88it/s]\n"
     ]
    },
    {
     "name": "stdout",
     "output_type": "stream",
     "text": [
      "Epoch 1, Train Loss: 2.4170, Val Loss: 2.0298\n"
     ]
    },
    {
     "name": "stderr",
     "output_type": "stream",
     "text": [
      "Epoch 2/50: 100%|██████████| 129/129 [00:01<00:00, 102.29it/s]\n"
     ]
    },
    {
     "name": "stdout",
     "output_type": "stream",
     "text": [
      "Epoch 2, Train Loss: 1.7994, Val Loss: 1.6906\n"
     ]
    },
    {
     "name": "stderr",
     "output_type": "stream",
     "text": [
      "Epoch 3/50: 100%|██████████| 129/129 [00:01<00:00, 97.41it/s]\n"
     ]
    },
    {
     "name": "stdout",
     "output_type": "stream",
     "text": [
      "Epoch 3, Train Loss: 1.4869, Val Loss: 1.4441\n"
     ]
    },
    {
     "name": "stderr",
     "output_type": "stream",
     "text": [
      "Epoch 4/50: 100%|██████████| 129/129 [00:01<00:00, 95.45it/s]\n"
     ]
    },
    {
     "name": "stdout",
     "output_type": "stream",
     "text": [
      "Epoch 4, Train Loss: 1.2276, Val Loss: 1.2228\n"
     ]
    },
    {
     "name": "stderr",
     "output_type": "stream",
     "text": [
      "Epoch 5/50: 100%|██████████| 129/129 [00:01<00:00, 93.88it/s]\n"
     ]
    },
    {
     "name": "stdout",
     "output_type": "stream",
     "text": [
      "Epoch 5, Train Loss: 0.9990, Val Loss: 1.0214\n"
     ]
    },
    {
     "name": "stderr",
     "output_type": "stream",
     "text": [
      "Epoch 6/50: 100%|██████████| 129/129 [00:01<00:00, 97.52it/s]\n"
     ]
    },
    {
     "name": "stdout",
     "output_type": "stream",
     "text": [
      "Epoch 6, Train Loss: 0.8084, Val Loss: 0.9130\n"
     ]
    },
    {
     "name": "stderr",
     "output_type": "stream",
     "text": [
      "Epoch 7/50: 100%|██████████| 129/129 [00:01<00:00, 96.20it/s]\n"
     ]
    },
    {
     "name": "stdout",
     "output_type": "stream",
     "text": [
      "Epoch 7, Train Loss: 0.6851, Val Loss: 0.7764\n"
     ]
    },
    {
     "name": "stderr",
     "output_type": "stream",
     "text": [
      "Epoch 8/50: 100%|██████████| 129/129 [00:01<00:00, 99.87it/s]\n"
     ]
    },
    {
     "name": "stdout",
     "output_type": "stream",
     "text": [
      "Epoch 8, Train Loss: 0.5942, Val Loss: 0.7127\n"
     ]
    },
    {
     "name": "stderr",
     "output_type": "stream",
     "text": [
      "Epoch 9/50: 100%|██████████| 129/129 [00:01<00:00, 96.03it/s]\n"
     ]
    },
    {
     "name": "stdout",
     "output_type": "stream",
     "text": [
      "Epoch 9, Train Loss: 0.5297, Val Loss: 0.6406\n"
     ]
    },
    {
     "name": "stderr",
     "output_type": "stream",
     "text": [
      "Epoch 10/50: 100%|██████████| 129/129 [00:01<00:00, 97.39it/s]\n"
     ]
    },
    {
     "name": "stdout",
     "output_type": "stream",
     "text": [
      "Epoch 10, Train Loss: 0.4776, Val Loss: 0.5876\n"
     ]
    },
    {
     "name": "stderr",
     "output_type": "stream",
     "text": [
      "Epoch 11/50: 100%|██████████| 129/129 [00:01<00:00, 97.47it/s]\n"
     ]
    },
    {
     "name": "stdout",
     "output_type": "stream",
     "text": [
      "Epoch 11, Train Loss: 0.4366, Val Loss: 0.5419\n"
     ]
    },
    {
     "name": "stderr",
     "output_type": "stream",
     "text": [
      "Epoch 12/50: 100%|██████████| 129/129 [00:01<00:00, 96.89it/s]\n"
     ]
    },
    {
     "name": "stdout",
     "output_type": "stream",
     "text": [
      "Epoch 12, Train Loss: 0.4123, Val Loss: 0.5106\n"
     ]
    },
    {
     "name": "stderr",
     "output_type": "stream",
     "text": [
      "Epoch 13/50: 100%|██████████| 129/129 [00:01<00:00, 97.33it/s]\n"
     ]
    },
    {
     "name": "stdout",
     "output_type": "stream",
     "text": [
      "Epoch 13, Train Loss: 0.3822, Val Loss: 0.4860\n"
     ]
    },
    {
     "name": "stderr",
     "output_type": "stream",
     "text": [
      "Epoch 14/50: 100%|██████████| 129/129 [00:01<00:00, 94.31it/s]\n"
     ]
    },
    {
     "name": "stdout",
     "output_type": "stream",
     "text": [
      "Epoch 14, Train Loss: 0.3632, Val Loss: 0.4667\n"
     ]
    },
    {
     "name": "stderr",
     "output_type": "stream",
     "text": [
      "Epoch 15/50: 100%|██████████| 129/129 [00:01<00:00, 98.22it/s]\n"
     ]
    },
    {
     "name": "stdout",
     "output_type": "stream",
     "text": [
      "Epoch 15, Train Loss: 0.3459, Val Loss: 0.4458\n"
     ]
    },
    {
     "name": "stderr",
     "output_type": "stream",
     "text": [
      "Epoch 16/50: 100%|██████████| 129/129 [00:01<00:00, 96.18it/s]\n"
     ]
    },
    {
     "name": "stdout",
     "output_type": "stream",
     "text": [
      "Epoch 16, Train Loss: 0.3283, Val Loss: 0.4222\n"
     ]
    },
    {
     "name": "stderr",
     "output_type": "stream",
     "text": [
      "Epoch 17/50: 100%|██████████| 129/129 [00:01<00:00, 83.26it/s]\n"
     ]
    },
    {
     "name": "stdout",
     "output_type": "stream",
     "text": [
      "Epoch 17, Train Loss: 0.3162, Val Loss: 0.4144\n"
     ]
    },
    {
     "name": "stderr",
     "output_type": "stream",
     "text": [
      "Epoch 18/50: 100%|██████████| 129/129 [00:01<00:00, 97.88it/s]\n"
     ]
    },
    {
     "name": "stdout",
     "output_type": "stream",
     "text": [
      "Epoch 18, Train Loss: 0.3038, Val Loss: 0.4048\n"
     ]
    },
    {
     "name": "stderr",
     "output_type": "stream",
     "text": [
      "Epoch 19/50: 100%|██████████| 129/129 [00:01<00:00, 114.97it/s]\n"
     ]
    },
    {
     "name": "stdout",
     "output_type": "stream",
     "text": [
      "Epoch 19, Train Loss: 0.2944, Val Loss: 0.3860\n"
     ]
    },
    {
     "name": "stderr",
     "output_type": "stream",
     "text": [
      "Epoch 20/50: 100%|██████████| 129/129 [00:00<00:00, 141.84it/s]\n"
     ]
    },
    {
     "name": "stdout",
     "output_type": "stream",
     "text": [
      "Epoch 20, Train Loss: 0.2876, Val Loss: 0.3722\n"
     ]
    },
    {
     "name": "stderr",
     "output_type": "stream",
     "text": [
      "Epoch 21/50: 100%|██████████| 129/129 [00:01<00:00, 100.86it/s]\n"
     ]
    },
    {
     "name": "stdout",
     "output_type": "stream",
     "text": [
      "Epoch 21, Train Loss: 0.2780, Val Loss: 0.3569\n"
     ]
    },
    {
     "name": "stderr",
     "output_type": "stream",
     "text": [
      "Epoch 22/50: 100%|██████████| 129/129 [00:01<00:00, 99.96it/s]\n"
     ]
    },
    {
     "name": "stdout",
     "output_type": "stream",
     "text": [
      "Epoch 22, Train Loss: 0.2713, Val Loss: 0.3509\n"
     ]
    },
    {
     "name": "stderr",
     "output_type": "stream",
     "text": [
      "Epoch 23/50: 100%|██████████| 129/129 [00:01<00:00, 96.23it/s]\n"
     ]
    },
    {
     "name": "stdout",
     "output_type": "stream",
     "text": [
      "Epoch 23, Train Loss: 0.2642, Val Loss: 0.3496\n"
     ]
    },
    {
     "name": "stderr",
     "output_type": "stream",
     "text": [
      "Epoch 24/50: 100%|██████████| 129/129 [00:01<00:00, 98.69it/s]\n"
     ]
    },
    {
     "name": "stdout",
     "output_type": "stream",
     "text": [
      "Epoch 24, Train Loss: 0.2595, Val Loss: 0.3431\n"
     ]
    },
    {
     "name": "stderr",
     "output_type": "stream",
     "text": [
      "Epoch 25/50: 100%|██████████| 129/129 [00:01<00:00, 94.58it/s]\n"
     ]
    },
    {
     "name": "stdout",
     "output_type": "stream",
     "text": [
      "Epoch 25, Train Loss: 0.2549, Val Loss: 0.3255\n"
     ]
    },
    {
     "name": "stderr",
     "output_type": "stream",
     "text": [
      "Epoch 26/50: 100%|██████████| 129/129 [00:01<00:00, 95.55it/s]\n"
     ]
    },
    {
     "name": "stdout",
     "output_type": "stream",
     "text": [
      "Epoch 26, Train Loss: 0.2493, Val Loss: 0.3185\n"
     ]
    },
    {
     "name": "stderr",
     "output_type": "stream",
     "text": [
      "Epoch 27/50: 100%|██████████| 129/129 [00:01<00:00, 97.56it/s]\n"
     ]
    },
    {
     "name": "stdout",
     "output_type": "stream",
     "text": [
      "Epoch 27, Train Loss: 0.2462, Val Loss: 0.3211\n"
     ]
    },
    {
     "name": "stderr",
     "output_type": "stream",
     "text": [
      "Epoch 28/50: 100%|██████████| 129/129 [00:01<00:00, 100.74it/s]\n"
     ]
    },
    {
     "name": "stdout",
     "output_type": "stream",
     "text": [
      "Epoch 28, Train Loss: 0.2419, Val Loss: 0.3139\n"
     ]
    },
    {
     "name": "stderr",
     "output_type": "stream",
     "text": [
      "Epoch 29/50: 100%|██████████| 129/129 [00:01<00:00, 97.80it/s]\n"
     ]
    },
    {
     "name": "stdout",
     "output_type": "stream",
     "text": [
      "Epoch 29, Train Loss: 0.2377, Val Loss: 0.3051\n"
     ]
    },
    {
     "name": "stderr",
     "output_type": "stream",
     "text": [
      "Epoch 30/50: 100%|██████████| 129/129 [00:01<00:00, 97.66it/s]\n"
     ]
    },
    {
     "name": "stdout",
     "output_type": "stream",
     "text": [
      "Epoch 30, Train Loss: 0.2348, Val Loss: 0.2978\n"
     ]
    },
    {
     "name": "stderr",
     "output_type": "stream",
     "text": [
      "Epoch 31/50: 100%|██████████| 129/129 [00:01<00:00, 95.22it/s]\n"
     ]
    },
    {
     "name": "stdout",
     "output_type": "stream",
     "text": [
      "Epoch 31, Train Loss: 0.2312, Val Loss: 0.2986\n"
     ]
    },
    {
     "name": "stderr",
     "output_type": "stream",
     "text": [
      "Epoch 32/50: 100%|██████████| 129/129 [00:01<00:00, 103.03it/s]\n"
     ]
    },
    {
     "name": "stdout",
     "output_type": "stream",
     "text": [
      "Epoch 32, Train Loss: 0.2287, Val Loss: 0.2903\n"
     ]
    },
    {
     "name": "stderr",
     "output_type": "stream",
     "text": [
      "Epoch 33/50: 100%|██████████| 129/129 [00:01<00:00, 94.44it/s]\n"
     ]
    },
    {
     "name": "stdout",
     "output_type": "stream",
     "text": [
      "Epoch 33, Train Loss: 0.2272, Val Loss: 0.2894\n"
     ]
    },
    {
     "name": "stderr",
     "output_type": "stream",
     "text": [
      "Epoch 34/50: 100%|██████████| 129/129 [00:01<00:00, 98.93it/s]\n"
     ]
    },
    {
     "name": "stdout",
     "output_type": "stream",
     "text": [
      "Epoch 34, Train Loss: 0.2232, Val Loss: 0.2814\n"
     ]
    },
    {
     "name": "stderr",
     "output_type": "stream",
     "text": [
      "Epoch 35/50: 100%|██████████| 129/129 [00:01<00:00, 96.64it/s]\n"
     ]
    },
    {
     "name": "stdout",
     "output_type": "stream",
     "text": [
      "Epoch 35, Train Loss: 0.2223, Val Loss: 0.2806\n"
     ]
    },
    {
     "name": "stderr",
     "output_type": "stream",
     "text": [
      "Epoch 36/50: 100%|██████████| 129/129 [00:01<00:00, 100.41it/s]\n"
     ]
    },
    {
     "name": "stdout",
     "output_type": "stream",
     "text": [
      "Epoch 36, Train Loss: 0.2206, Val Loss: 0.2750\n"
     ]
    },
    {
     "name": "stderr",
     "output_type": "stream",
     "text": [
      "Epoch 37/50: 100%|██████████| 129/129 [00:01<00:00, 93.60it/s]\n"
     ]
    },
    {
     "name": "stdout",
     "output_type": "stream",
     "text": [
      "Epoch 37, Train Loss: 0.2178, Val Loss: 0.2731\n"
     ]
    },
    {
     "name": "stderr",
     "output_type": "stream",
     "text": [
      "Epoch 38/50: 100%|██████████| 129/129 [00:01<00:00, 95.76it/s]\n"
     ]
    },
    {
     "name": "stdout",
     "output_type": "stream",
     "text": [
      "Epoch 38, Train Loss: 0.2153, Val Loss: 0.2686\n"
     ]
    },
    {
     "name": "stderr",
     "output_type": "stream",
     "text": [
      "Epoch 39/50: 100%|██████████| 129/129 [00:01<00:00, 98.03it/s]\n"
     ]
    },
    {
     "name": "stdout",
     "output_type": "stream",
     "text": [
      "Epoch 39, Train Loss: 0.2133, Val Loss: 0.2669\n"
     ]
    },
    {
     "name": "stderr",
     "output_type": "stream",
     "text": [
      "Epoch 40/50: 100%|██████████| 129/129 [00:01<00:00, 97.01it/s]\n"
     ]
    },
    {
     "name": "stdout",
     "output_type": "stream",
     "text": [
      "Epoch 40, Train Loss: 0.2120, Val Loss: 0.2617\n"
     ]
    },
    {
     "name": "stderr",
     "output_type": "stream",
     "text": [
      "Epoch 41/50: 100%|██████████| 129/129 [00:01<00:00, 96.15it/s]\n"
     ]
    },
    {
     "name": "stdout",
     "output_type": "stream",
     "text": [
      "Epoch 41, Train Loss: 0.2111, Val Loss: 0.2635\n"
     ]
    },
    {
     "name": "stderr",
     "output_type": "stream",
     "text": [
      "Epoch 42/50: 100%|██████████| 129/129 [00:01<00:00, 100.41it/s]\n"
     ]
    },
    {
     "name": "stdout",
     "output_type": "stream",
     "text": [
      "Epoch 42, Train Loss: 0.2093, Val Loss: 0.2608\n"
     ]
    },
    {
     "name": "stderr",
     "output_type": "stream",
     "text": [
      "Epoch 43/50: 100%|██████████| 129/129 [00:01<00:00, 97.67it/s]\n"
     ]
    },
    {
     "name": "stdout",
     "output_type": "stream",
     "text": [
      "Epoch 43, Train Loss: 0.2069, Val Loss: 0.2581\n"
     ]
    },
    {
     "name": "stderr",
     "output_type": "stream",
     "text": [
      "Epoch 44/50: 100%|██████████| 129/129 [00:01<00:00, 95.99it/s]\n"
     ]
    },
    {
     "name": "stdout",
     "output_type": "stream",
     "text": [
      "Epoch 44, Train Loss: 0.2056, Val Loss: 0.2544\n"
     ]
    },
    {
     "name": "stderr",
     "output_type": "stream",
     "text": [
      "Epoch 45/50: 100%|██████████| 129/129 [00:01<00:00, 98.63it/s]\n"
     ]
    },
    {
     "name": "stdout",
     "output_type": "stream",
     "text": [
      "Epoch 45, Train Loss: 0.2051, Val Loss: 0.2539\n"
     ]
    },
    {
     "name": "stderr",
     "output_type": "stream",
     "text": [
      "Epoch 46/50: 100%|██████████| 129/129 [00:01<00:00, 95.59it/s]\n"
     ]
    },
    {
     "name": "stdout",
     "output_type": "stream",
     "text": [
      "Epoch 46, Train Loss: 0.2032, Val Loss: 0.2518\n"
     ]
    },
    {
     "name": "stderr",
     "output_type": "stream",
     "text": [
      "Epoch 47/50: 100%|██████████| 129/129 [00:01<00:00, 98.58it/s]\n"
     ]
    },
    {
     "name": "stdout",
     "output_type": "stream",
     "text": [
      "Epoch 47, Train Loss: 0.2023, Val Loss: 0.2468\n"
     ]
    },
    {
     "name": "stderr",
     "output_type": "stream",
     "text": [
      "Epoch 48/50: 100%|██████████| 129/129 [00:01<00:00, 95.14it/s]\n"
     ]
    },
    {
     "name": "stdout",
     "output_type": "stream",
     "text": [
      "Epoch 48, Train Loss: 0.2007, Val Loss: 0.2461\n"
     ]
    },
    {
     "name": "stderr",
     "output_type": "stream",
     "text": [
      "Epoch 49/50: 100%|██████████| 129/129 [00:01<00:00, 98.10it/s]\n"
     ]
    },
    {
     "name": "stdout",
     "output_type": "stream",
     "text": [
      "Epoch 49, Train Loss: 0.2003, Val Loss: 0.2408\n"
     ]
    },
    {
     "name": "stderr",
     "output_type": "stream",
     "text": [
      "Epoch 50/50: 100%|██████████| 129/129 [00:01<00:00, 94.24it/s]"
     ]
    },
    {
     "name": "stdout",
     "output_type": "stream",
     "text": [
      "Epoch 50, Train Loss: 0.1986, Val Loss: 0.2418\n"
     ]
    },
    {
     "name": "stderr",
     "output_type": "stream",
     "text": [
      "\n"
     ]
    }
   ],
   "source": [
    "model = AttentiveStim2BrainNet(d_model=128, nhead=2, num_layers=2).to(device)\n",
    "mse_loss = nn.MSELoss()\n",
    "\n",
    "def pearson_loss(pred, target, eps=1e-8):\n",
    "    pred = pred - pred.mean(dim=-1, keepdim=True)\n",
    "    target = target - target.mean(dim=-1, keepdim=True)\n",
    "    corr_num = (pred * target).sum(dim=-1)\n",
    "    corr_den = (pred.norm(dim=-1) * target.norm(dim=-1)).clamp(min=eps)\n",
    "    corr = corr_num / corr_den\n",
    "    return 1 - corr.mean()\n",
    "\n",
    "def contrastive_loss(pred, target, tau=0.05):\n",
    "    target = target.reshape(target.shape[0], -1)\n",
    "    pred = pred.reshape(pred.shape[0], -1)   \n",
    "    pred = F.normalize(pred, dim=1)   # (batch, 1)\n",
    "    target = F.normalize(target, dim=1)\n",
    "    sim_matrix = torch.mm(pred, target.T)   # (batch, batch)\n",
    "    sim_matrix = sim_matrix / tau\n",
    "    loss = -torch.log(torch.exp(torch.diag(sim_matrix)) / sim_matrix.exp().sum(dim=1))\n",
    "    return loss.mean()\n",
    "\n",
    "optimizer = optim.AdamW(model.parameters(), lr=1e-3, betas=(0.9, 0.95), weight_decay=1e-4)\n",
    "scheduler = optim.lr_scheduler.ReduceLROnPlateau(optimizer, mode='min', patience=5)\n",
    "\n",
    "# Training loop\n",
    "num_epochs = 50\n",
    "best_val_loss = float('inf')\n",
    "\n",
    "for epoch in range(num_epochs):\n",
    "    model.train()\n",
    "    train_loss = 0\n",
    "    for x, y in tqdm(train_loader, desc=f\"Epoch {epoch+1}/{num_epochs}\"):\n",
    "        optimizer.zero_grad()\n",
    "        y_pred = model(x)\n",
    "        loss = 0.2 * mse_loss(y_pred, y.float()) + 0.8 * contrastive_loss(y_pred, y.float())\n",
    "        loss.backward()\n",
    "        optimizer.step()\n",
    "        train_loss += loss.item() * x.size(0)\n",
    "\n",
    "    train_loss /= len(train_loader.dataset)\n",
    "\n",
    "    model.eval()\n",
    "    val_loss = 0\n",
    "    with torch.no_grad():\n",
    "        for x, y in val_loader:\n",
    "            x, y = x.to(device), y.to(device)\n",
    "            y_pred = model(x)\n",
    "            val_loss += (0.2 * mse_loss(y_pred, y) + 0.8 * contrastive_loss(y_pred, y)) * x.size(0)\n",
    "    val_loss /= len(val_loader.dataset)\n",
    "    scheduler.step(val_loss)\n",
    "\n",
    "    print(f\"Epoch {epoch+1}, Train Loss: {train_loss:.4f}, Val Loss: {val_loss:.4f}\")\n",
    "\n",
    "    # Salva il modello migliore\n",
    "    if val_loss < best_val_loss:\n",
    "        best_val_loss = val_loss\n",
    "        torch.save(model.state_dict(), \"/home/matteoc/ecog-speech/best_model_CL.pt\")\n"
   ]
  },
  {
   "cell_type": "code",
   "execution_count": 246,
   "id": "d30ff85d",
   "metadata": {},
   "outputs": [
    {
     "name": "stdout",
     "output_type": "stream",
     "text": [
      "Test Loss: 0.2492\n"
     ]
    }
   ],
   "source": [
    "# Valutazione finale su test set\n",
    "model.load_state_dict(torch.load(\"/home/matteoc/ecog-speech/best_model_CL.pt\"))\n",
    "model.eval()\n",
    "test_loss = 0\n",
    "y_pred_all = []\n",
    "y_true_all = []\n",
    "with torch.no_grad():\n",
    "    for x, y in test_loader:\n",
    "        y_pred = model(x)\n",
    "        y_pred_all.append(y_pred.cpu())\n",
    "        y_true_all.append(y.cpu())\n",
    "        test_loss += (0.2 * mse_loss(y_pred, y) + 0.8 * contrastive_loss(y_pred, y)) * x.size(0)\n",
    "y_pred_all = torch.cat(y_pred_all, dim=0)\n",
    "y_true_all = torch.cat(y_true_all, dim=0)\n",
    "test_loss /= len(test_loader.dataset)\n",
    "print(f\"Test Loss: {test_loss:.4f}\")"
   ]
  },
  {
   "cell_type": "code",
   "execution_count": 247,
   "id": "3aad15ac",
   "metadata": {},
   "outputs": [
    {
     "name": "stderr",
     "output_type": "stream",
     "text": [
      "100%|██████████| 513/513 [00:12<00:00, 42.57it/s]\n"
     ]
    }
   ],
   "source": [
    "from torchmetrics.functional import pearson_corrcoef\n",
    "\n",
    "correlations_time = np.zeros((y_pred_all.shape[0], y_pred_all.shape[2]))\n",
    "for sample in tqdm(range(y_pred_all.shape[0])):\n",
    "    y_pred_sample = y_pred_all[sample, :, :]\n",
    "    y_true_sample = y_true_all[sample, :, :]\n",
    "    for tp in range(y_pred_all.shape[2]):\n",
    "        pred = y_pred_sample[:, tp]\n",
    "        target = y_true_sample[:, tp]\n",
    "        corr = pearson_corrcoef(pred, target)\n",
    "        correlations_time[sample, tp] = corr.item()"
   ]
  },
  {
   "cell_type": "code",
   "execution_count": 248,
   "id": "39cb60fa",
   "metadata": {},
   "outputs": [],
   "source": [
    "correlations_time = np.mean(correlations_time, axis=0)"
   ]
  },
  {
   "cell_type": "code",
   "execution_count": 249,
   "id": "a2d3452b",
   "metadata": {},
   "outputs": [
    {
     "name": "stderr",
     "output_type": "stream",
     "text": [
      "100%|██████████| 513/513 [00:09<00:00, 52.05it/s]\n"
     ]
    }
   ],
   "source": [
    "from torchmetrics.functional import pearson_corrcoef\n",
    "\n",
    "correlations_channels = np.zeros((y_pred_all.shape[0], y_pred_all.shape[1]))\n",
    "for sample in tqdm(range(y_pred_all.shape[0])):\n",
    "    y_pred_sample = y_pred_all[sample, :, :]\n",
    "    y_true_sample = y_true_all[sample, :, :]\n",
    "    for channel in range(y_pred_all.shape[1]):\n",
    "        pred = y_pred_sample[channel, :]\n",
    "        target = y_true_sample[channel, :]\n",
    "        corr = pearson_corrcoef(pred, target)\n",
    "        correlations_channels[sample, channel] = corr.item()"
   ]
  },
  {
   "cell_type": "code",
   "execution_count": 250,
   "id": "a0d611af",
   "metadata": {},
   "outputs": [],
   "source": [
    "correlations_channels = np.mean(correlations_channels, axis=0)"
   ]
  },
  {
   "cell_type": "code",
   "execution_count": 251,
   "id": "97c91ac9",
   "metadata": {},
   "outputs": [
    {
     "data": {
      "text/plain": [
       "(0.603262339956463,\n",
       " 0.21871998465788992,\n",
       " 0.03905444850109892,\n",
       " 0.1264038527232316)"
      ]
     },
     "execution_count": 251,
     "metadata": {},
     "output_type": "execute_result"
    }
   ],
   "source": [
    "correlations_channels.max(), correlations_channels.mean(), correlations_channels.min(), correlations_channels.std()"
   ]
  },
  {
   "cell_type": "code",
   "execution_count": 252,
   "id": "600e5c37",
   "metadata": {},
   "outputs": [
    {
     "data": {
      "text/plain": [
       "(0.29088860470892364,\n",
       " 0.27043696144826784,\n",
       " 0.1803533300917621,\n",
       " 0.01759919675432372)"
      ]
     },
     "execution_count": 252,
     "metadata": {},
     "output_type": "execute_result"
    }
   ],
   "source": [
    "correlations_time.max(), correlations_time.mean(), correlations_time.min(), correlations_time.std()"
   ]
  },
  {
   "cell_type": "code",
   "execution_count": 255,
   "id": "8995bb76",
   "metadata": {},
   "outputs": [],
   "source": [
    "# lags = np.linspace(-1, 2, 282) \n",
    "# mean = correlations_time\n",
    "\n",
    "# fig, ax = plt.subplots()\n",
    "# ax.plot(lags, mean, color='black')\n",
    "# ax.fill_between(lags, mean, mean, alpha=0.2, color='black')\n",
    "# ax.set_xlabel(\"lag (s)\")\n",
    "# ax.set_ylabel(\"encoding performance (r ± sem)\")\n",
    "# ax.axvline(0, c=(.9, .9, .9), ls=\"--\")\n",
    "# ax.axhline(0, c=(.9, .9, .9), ls=\"--\")\n",
    "# fig.show()"
   ]
  },
  {
   "cell_type": "code",
   "execution_count": 254,
   "id": "ac847bdc",
   "metadata": {},
   "outputs": [
    {
     "name": "stdout",
     "output_type": "stream",
     "text": [
      "Coordinate matrix shape:  (235, 3)\n"
     ]
    },
    {
     "data": {
      "image/png": "[encoded data removed]",
      "text/plain": [
       "<Figure size 660x350 with 5 Axes>"
      ]
     },
     "metadata": {},
     "output_type": "display_data"
    }
   ],
   "source": [
    "raw = mne.io.read_raw_fif(file_path, verbose=False)\n",
    "raw.load_data(verbose=False)\n",
    "raw = raw.apply_function(func, channel_wise=False, verbose=False)\n",
    "\n",
    "ch2loc = {ch['ch_name']: ch['loc'][:3] for ch in raw.info['chs']}\n",
    "coords = np.vstack([ch2loc[ch] for ch in raw.info['ch_names']])\n",
    "coords *= 1000  # nilearn likes to plot in meters, not mm\n",
    "print(\"Coordinate matrix shape: \", coords.shape)\n",
    "\n",
    "order = correlations_channels.argsort()\n",
    "plot_markers(correlations_channels[order], coords[order],\n",
    "             node_size=30, display_mode='lzr',\n",
    "             node_vmin=0, node_cmap='inferno_r', colorbar=True)\n",
    "plt.show()"
   ]
  },
  {
   "cell_type": "code",
   "execution_count": null,
   "id": "01b7cf03",
   "metadata": {},
   "outputs": [],
   "source": []
  },
  {
   "cell_type": "code",
   "execution_count": null,
   "id": "f9e3f241",
   "metadata": {},
   "outputs": [],
   "source": []
  },
  {
   "cell_type": "code",
   "execution_count": null,
   "id": "04ac7c19",
   "metadata": {},
   "outputs": [],
   "source": []
  }
 ],
 "metadata": {
  "kernelspec": {
   "display_name": "speech-meg",
   "language": "python",
   "name": "python3"
  },
  "language_info": {
   "codemirror_mode": {
    "name": "ipython",
    "version": 3
   },
   "file_extension": ".py",
   "mimetype": "text/x-python",
   "name": "python",
   "nbconvert_exporter": "python",
   "pygments_lexer": "ipython3",
   "version": "3.9.16"
  }
 },
 "nbformat": 4,
 "nbformat_minor": 5
}
